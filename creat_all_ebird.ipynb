{
 "cells": [
  {
   "cell_type": "code",
   "execution_count": 1,
   "metadata": {},
   "outputs": [],
   "source": [
    "import pandas as pd\n",
    "import numpy as np\n",
    "import matplotlib.pyplot as plt\n",
    "import os\n",
    "import sys\n",
    "### change the path to my working directory\n",
    "# os.chdir('/Users/chenyangkang/Desktop/MADS/521')\n",
    "import warnings\n",
    "import PIL\n",
    "warnings.filterwarnings('ignore')\n",
    "from bing_pictures import grap_figure\n",
    "from selenium import webdriver\n",
    "import random,time,requests\n",
    "from bs4 import BeautifulSoup\n",
    "from selenium.webdriver.chrome.options import Options\n",
    "import sys\n",
    "import time\n",
    "### import modules\n",
    "import folium\n",
    "from folium import plugins\n",
    "from folium.plugins import HeatMap\n",
    "import webbrowser\n",
    "import time\n",
    "import cv2\n",
    "\n",
    "### using mouseposition so that my mouse will show the longtude and latitude\n",
    "from folium.plugins import MousePosition"
   ]
  },
  {
   "cell_type": "code",
   "execution_count": 7,
   "metadata": {},
   "outputs": [],
   "source": [
    "### define a funtion that take the observation data as input and output a merged dataframe with inno_data set.\n",
    "def read_data(path):\n",
    "    ### load the ebird (bird observation) data\n",
    "    data=pd.read_table(path,sep='\\t')\n",
    "    ### set proper date format\n",
    "    data['LAST EDITED DATE']=pd.to_datetime(data['LAST EDITED DATE'])\n",
    "    data['OBSERVATION DATE']=pd.to_datetime(data['OBSERVATION DATE'])\n",
    "    data['year']=data['OBSERVATION DATE'].dt.year\n",
    "    data['month']=data['OBSERVATION DATE'].dt.month\n",
    "    data['week']=data['OBSERVATION DATE'].dt.week\n",
    "    ### fill some missing data\n",
    "    data['OBSERVATION COUNT'][data['OBSERVATION COUNT']=='X']=5\n",
    "    ### change data type\n",
    "    data['OBSERVATION COUNT']=data['OBSERVATION COUNT'].astype('float')\n",
    "    return data"
   ]
  },
  {
   "cell_type": "code",
   "execution_count": 8,
   "metadata": {},
   "outputs": [],
   "source": [
    "### define a function that return a three-dimensional: \n",
    "# dimension1: week. each list belongs to a week of the years.\n",
    "# dimension2: each observation data point.\n",
    "# dimension3: a [longitude, latitude, observation counts] list.\n",
    "def creat_plot_list(df1,year_list,start=1,end=53):\n",
    "    out_list=[]\n",
    "    for year in year_list:\n",
    "        df=df1[df1['year']==year]\n",
    "        for week in range(start,end+1):\n",
    "            sub_data=df[df['week']==week][['LONGITUDE','LATITUDE','SCIENTIFIC NAME','OBSERVATION COUNT']]\n",
    "            sub_data=sub_data.dropna()\n",
    "            lat=sub_data['LATITUDE'].values\n",
    "            long=sub_data['LONGITUDE'].values\n",
    "            value=sub_data['OBSERVATION COUNT'].values\n",
    "            list_=[[lat[i], long[i], value[i]] for i in range(0,len(lat))]\n",
    "            out_list.append(list_)\n",
    "    \n",
    "    return out_list\n"
   ]
  },
  {
   "cell_type": "code",
   "execution_count": 9,
   "metadata": {},
   "outputs": [],
   "source": [
    "def plot_map_new(long_lat_value_list,index,image_path1=None,image_path2=None,image_path3=None):\n",
    "    ### the folium.map funtion takes location (original central poin of the map), zoom level and tiles. \n",
    "    # Tiles are like OpenStreetMap, Stamen Toner, Stamen Watercolor, Cartodb Positron, \n",
    "    map = folium.Map(location=[np.median([list_[i][0] for list_ in long_lat_value_list for i in range(0,len(list_))]), \\\n",
    "                                np.median([list_[i][1] for list_ in long_lat_value_list for i in range(0,len(list_))])], \\\n",
    "                                    zoom_start=2, \\\n",
    "                                        tiles='OpenStreetMap', \\\n",
    "                                                auto_play=True)\n",
    "    \n",
    "    ### add image to the map (reference: https://nbviewer.org/github/python-visualization/folium/blob/main/examples/ImageOverlay.ipynb)\n",
    "    if not image_path1==None:\n",
    "        folium.raster_layers.ImageOverlay(\n",
    "        image=image_path1,\n",
    "        name=\"name_jpg\",\n",
    "        bounds=[[20, -120], [-20, -175]],\n",
    "        opacity=1,\n",
    "        interactive=False,\n",
    "        cross_origin=True,\n",
    "        zindex=1,\n",
    "        alt=image_path1,\n",
    "        ).add_to(map)\n",
    "\n",
    "    if not image_path2==None:\n",
    "        a=cv2.imread(image_path2)\n",
    "        len_with_frac=a.shape[1]/a.shape[0]\n",
    "        if a.shape[1]>=a.shape[0]:\n",
    "            factor=1.3\n",
    "        else:\n",
    "            factor=2\n",
    "        print(\"len_with_frac2 \"+str(len_with_frac))\n",
    "        folium.raster_layers.ImageOverlay(\n",
    "        image=image_path2,\n",
    "        name=\"picture1_jpg\",\n",
    "        bounds=[[-25, -153], [-25-(55/len_with_frac)/factor, -208]],\n",
    "        opacity=1,\n",
    "        interactive=False,\n",
    "        cross_origin=True,\n",
    "        zindex=1,\n",
    "        alt=image_path2,\n",
    "        ).add_to(map)\n",
    "\n",
    "    if not image_path3==None:\n",
    "        a=cv2.imread(image_path3)\n",
    "        len_with_frac=a.shape[1]/a.shape[0]\n",
    "        if a.shape[1]>=a.shape[0]:\n",
    "            factor=1.3\n",
    "        else:\n",
    "            factor=1.8\n",
    "        print(\"len_with_frac3 \"+str(len_with_frac))\n",
    "        folium.raster_layers.ImageOverlay(\n",
    "        image=image_path3,\n",
    "        name=\"picture2_jpg\",\n",
    "        bounds=[[-25-(55/len_with_frac)/factor, -89], [-25, -144]],\n",
    "        opacity=1,\n",
    "        interactive=False,\n",
    "        cross_origin=True,\n",
    "        zindex=1,\n",
    "        alt=image_path3,\n",
    "        ).add_to(map)\n",
    "\n",
    "    ### add lines (reference: https://nbviewer.org/github/python-visualization/folium/blob/main/examples/VectorLayers.ipynb)\n",
    "    north_pole_line=[[66.566,x] for x in np.linspace(-180,180,num=100)]\n",
    "    south_pole_line=[[-66.566,x] for x in np.linspace(-180,180,num=100)]\n",
    "    north_tropic_line=[[23.433,x] for x in np.linspace(-180,180,num=100)]\n",
    "    south_tropic_line=[[-23.433,x] for x in np.linspace(-180,180,num=100)]\n",
    "\n",
    "    folium.PolyLine(\n",
    "    locations=north_pole_line,\n",
    "    color=\"blue\",\n",
    "    weight=4,\n",
    "    tooltip=\"north_pole_line\", opacity=0.3\n",
    "    ).add_to(map)\n",
    "\n",
    "    folium.PolyLine(\n",
    "    locations=south_pole_line,\n",
    "    color=\"blue\",\n",
    "    weight=4,\n",
    "    tooltip=\"south_pole_line\",opacity=0.3\n",
    "    ).add_to(map)\n",
    "\n",
    "    folium.PolyLine(\n",
    "    locations=north_tropic_line,\n",
    "    color=\"red\",\n",
    "    weight=4,\n",
    "    tooltip=\"north_tropic_line\",opacity=0.3\n",
    "    ).add_to(map)\n",
    "\n",
    "    folium.PolyLine(\n",
    "    smooth_factor=50,\n",
    "    locations=south_tropic_line,\n",
    "    color=\"red\",\n",
    "    weight=4,\n",
    "    tooltip=\"south_tropic_line\",opacity=0.3\n",
    "    ).add_to(map)\n",
    "\n",
    "\n",
    "    ### add mouse position to check longitude and latitude\n",
    "    MousePosition().add_to(map)\n",
    "    # make plot data\n",
    "    plugins.HeatMapWithTime(long_lat_value_list,index=index, auto_play=True, max_opacity=0.3).add_to(map)\n",
    "    \n",
    "\n",
    "    # map.save('map_hp.html') #save in html\n",
    "    # webbrowser.open('map_hp.html') #open it in browser\n",
    "    return map"
   ]
  },
  {
   "cell_type": "code",
   "execution_count": 12,
   "metadata": {},
   "outputs": [
    {
     "name": "stdout",
     "output_type": "stream",
     "text": [
      "ducks\n",
      "len_with_frac2 1.1229946524064172\n",
      "len_with_frac3 1.3352112676056338\n",
      "Finished***:   Snow Goose\n",
      "len_with_frac2 1.4766355140186915\n",
      "len_with_frac3 1.5\n",
      "Finished***:   Tufted Duck\n",
      "len_with_frac2 1.3445945945945945\n",
      "len_with_frac3 1.1183098591549296\n",
      "Finished***:   Long-tailed Duck\n",
      "len_with_frac2 1.37\n",
      "len_with_frac3 1.2751479289940828\n",
      "Finished***:   Tundra Bean-Goose\n",
      "len_with_frac2 1.0666666666666667\n",
      "len_with_frac3 1.0833333333333333\n",
      "Finished***:   Ross's Goose\n",
      "len_with_frac2 1.7050359712230216\n",
      "len_with_frac3 1.3418079096045197\n",
      "Finished***:   American Black Duck\n",
      "len_with_frac2 0.9919028340080972\n",
      "len_with_frac3 1.488888888888889\n",
      "Finished***:   Mallard\n",
      "len_with_frac2 1.5\n",
      "len_with_frac3 1.5015873015873016\n",
      "Finished***:   Mandarin Duck\n",
      "len_with_frac2 1.5015873015873016\n",
      "len_with_frac3 1.5063694267515924\n",
      "Finished***:   Wood Duck\n",
      "len_with_frac2 1.4730158730158731\n",
      "len_with_frac3 1.4746835443037976\n",
      "Finished***:   Muscovy Duck\n",
      "len_with_frac2 1.5241157556270097\n",
      "len_with_frac3 1.6047297297297298\n",
      "Finished***:   Ruddy Duck\n",
      "len_with_frac2 1.2579617834394905\n",
      "len_with_frac3 1.0444444444444445\n",
      "Finished***:   Northern Pintail\n",
      "len_with_frac2 1.7236363636363636\n",
      "len_with_frac3 1.5\n",
      "Finished***:   Harlequin Duck\n",
      "len_with_frac2 1.4131147540983606\n",
      "len_with_frac3 1.2193732193732194\n",
      "Finished***:   Red-billed Duck\n",
      "len_with_frac2 1.1444444444444444\n",
      "len_with_frac3 1.2732394366197184\n",
      "Finished***:   Ruddy Shelduck\n",
      "len_with_frac2 1.6326530612244898\n",
      "len_with_frac3 1.2563291139240507\n",
      "Finished***:   duck sp.\n",
      "len_with_frac2 1.1971830985915493\n",
      "len_with_frac3 1.1444444444444444\n",
      "Finished***:   Mallard x American Black Duck (hybrid)\n",
      "len_with_frac2 1.5047619047619047\n",
      "len_with_frac3 1.6013513513513513\n",
      "Finished***:   Green-winged Teal\n",
      "Location values cannot contain NaNs.\n",
      "killed.....:   Mallard_or_Mexican Duck\n",
      "len_with_frac2 1.412162162162162\n",
      "len_with_frac3 1.412162162162162\n",
      "Finished***:   Ring-necked Duck\n",
      "len_with_frac2 1.5047619047619047\n",
      "len_with_frac3 1.3352112676056338\n",
      "Finished***:   Emperor Goose\n",
      "len_with_frac2 1.1684782608695652\n",
      "len_with_frac3 1.5\n",
      "Finished***:   Fulvous Whistling-Duck\n",
      "http://bing.com/images/search?q=Taiga+Bean-Goose\n",
      "https://tse1-mm.cn.bing.net/th/id/OIP-C.EzvKvKWzXecMErIiaTuVIQHaD-?w=311&h=180&c=7&r=0&o=5&dpr=2&pid=1.7\n"
     ]
    },
    {
     "name": "stderr",
     "output_type": "stream",
     "text": [
      "Some characters could not be decoded, and were replaced with REPLACEMENT CHARACTER.\n",
      "Some characters could not be decoded, and were replaced with REPLACEMENT CHARACTER.\n"
     ]
    },
    {
     "name": "stdout",
     "output_type": "stream",
     "text": [
      "https://tse4-mm.cn.bing.net/th/id/OIP-C.ABJcGt7QRUywY9YWJlYdegHaHa?w=167&h=180&c=7&r=0&o=5&dpr=2&pid=1.7\n",
      "len_with_frac2 1.7254901960784315\n",
      "len_with_frac3 0.9277777777777778\n",
      "Finished***:   Taiga Bean-Goose\n",
      "http://bing.com/images/search?q=Greater+White-fronted+Goose\n",
      "https://tse1-mm.cn.bing.net/th/id/OIP-C.tzqruKNFWqK0ExjONMG6ZgHaEo?w=316&h=197&c=7&r=0&o=5&dpr=2&pid=1.7\n"
     ]
    },
    {
     "name": "stderr",
     "output_type": "stream",
     "text": [
      "Some characters could not be decoded, and were replaced with REPLACEMENT CHARACTER.\n"
     ]
    },
    {
     "name": "stdout",
     "output_type": "stream",
     "text": [
      "https://tse1-mm.cn.bing.net/th/id/OIP-C.e_8H6w0vEM9gLyfYRi0s5QHaFF?w=287&h=197&c=7&r=0&o=5&dpr=2&pid=1.7\n"
     ]
    },
    {
     "name": "stderr",
     "output_type": "stream",
     "text": [
      "Some characters could not be decoded, and were replaced with REPLACEMENT CHARACTER.\n"
     ]
    },
    {
     "name": "stdout",
     "output_type": "stream",
     "text": [
      "len_with_frac2 1.6013513513513513\n",
      "len_with_frac3 1.4584615384615385\n",
      "Finished***:   Greater White-fronted Goose\n",
      "http://bing.com/images/search?q=Cape+Teal\n",
      "https://tse2-mm.cn.bing.net/th/id/OIP-C.k3QuXSij47uylZreNfT_zQHaE-?w=281&h=187&c=7&r=0&o=5&dpr=2&pid=1.7\n"
     ]
    },
    {
     "name": "stderr",
     "output_type": "stream",
     "text": [
      "Some characters could not be decoded, and were replaced with REPLACEMENT CHARACTER.\n"
     ]
    },
    {
     "name": "stdout",
     "output_type": "stream",
     "text": [
      "https://tse1-mm.cn.bing.net/th/id/OIP-C.jvXFtuHXDkvZJahcLeEQ1QHaEK?w=333&h=187&c=7&r=0&o=5&dpr=2&pid=1.7\n"
     ]
    },
    {
     "name": "stderr",
     "output_type": "stream",
     "text": [
      "Some characters could not be decoded, and were replaced with REPLACEMENT CHARACTER.\n"
     ]
    },
    {
     "name": "stdout",
     "output_type": "stream",
     "text": [
      "len_with_frac2 1.5\n",
      "len_with_frac3 1.781954887218045\n",
      "Finished***:   Cape Teal\n",
      "http://bing.com/images/search?q=Magpie+Goose\n",
      "https://tse3-mm.cn.bing.net/th/id/OIP-C.e3j_QzH2MXb2krzfN4JNvAHaEK?w=316&h=180&c=7&r=0&o=5&dpr=2&pid=1.7\n"
     ]
    },
    {
     "name": "stderr",
     "output_type": "stream",
     "text": [
      "Some characters could not be decoded, and were replaced with REPLACEMENT CHARACTER.\n",
      "Some characters could not be decoded, and were replaced with REPLACEMENT CHARACTER.\n"
     ]
    },
    {
     "name": "stdout",
     "output_type": "stream",
     "text": [
      "https://tse3-mm.cn.bing.net/th/id/OIP-C.zIHC51iPkaAmg8HUzPUaGQHaG1?w=192&h=180&c=7&r=0&o=5&dpr=2&pid=1.7\n",
      "len_with_frac2 1.755639097744361\n",
      "len_with_frac3 1.0666666666666667\n",
      "Finished***:   Magpie Goose\n",
      "http://bing.com/images/search?q=Paradise+Shelduck\n"
     ]
    },
    {
     "name": "stderr",
     "output_type": "stream",
     "text": [
      "Some characters could not be decoded, and were replaced with REPLACEMENT CHARACTER.\n"
     ]
    },
    {
     "name": "stdout",
     "output_type": "stream",
     "text": [
      "https://tse1-mm.cn.bing.net/th/id/OIP-C.SgiXuZmKT2XHk0Wc2eVAKgHaFL?w=281&h=197&c=7&r=0&o=5&dpr=2&pid=1.7\n",
      "https://tse4-mm.cn.bing.net/th/id/OIP-C.DsJPd746tFDKfzBWaVtzDgHaFZ?w=270&h=197&c=7&r=0&o=5&dpr=2&pid=1.7\n"
     ]
    },
    {
     "name": "stderr",
     "output_type": "stream",
     "text": [
      "Some characters could not be decoded, and were replaced with REPLACEMENT CHARACTER.\n"
     ]
    },
    {
     "name": "stdout",
     "output_type": "stream",
     "text": [
      "len_with_frac2 1.4290030211480362\n",
      "len_with_frac3 1.3710144927536232\n",
      "Finished***:   Paradise Shelduck\n",
      "http://bing.com/images/search?q=Pacific+Black+Duck\n"
     ]
    },
    {
     "name": "stderr",
     "output_type": "stream",
     "text": [
      "Some characters could not be decoded, and were replaced with REPLACEMENT CHARACTER.\n"
     ]
    },
    {
     "name": "stdout",
     "output_type": "stream",
     "text": [
      "https://tse2-mm.cn.bing.net/th/id/OIP-C.fATB9bAptp524KDVtPFEIwHaFj?w=269&h=202&c=7&r=0&o=5&dpr=2&pid=1.7\n",
      "https://tse2-mm.cn.bing.net/th/id/OIP-C.6qJUFuZW-cMTBJCWWPQroQHaE6?w=304&h=202&c=7&r=0&o=5&dpr=2&pid=1.7\n"
     ]
    },
    {
     "name": "stderr",
     "output_type": "stream",
     "text": [
      "Some characters could not be decoded, and were replaced with REPLACEMENT CHARACTER.\n"
     ]
    },
    {
     "name": "stdout",
     "output_type": "stream",
     "text": [
      "len_with_frac2 1.332394366197183\n",
      "len_with_frac3 1.5063694267515924\n",
      "Finished***:   Pacific Black Duck\n",
      "http://bing.com/images/search?q=Masked+Duck\n",
      "https://tse4-mm.cn.bing.net/th/id/OIP-C.xKjhS554HpcAZIQFKmIniwHaEl?w=255&h=180&c=7&r=0&o=5&dpr=2&pid=1.7\n"
     ]
    },
    {
     "name": "stderr",
     "output_type": "stream",
     "text": [
      "Some characters could not be decoded, and were replaced with REPLACEMENT CHARACTER.\n",
      "Some characters could not be decoded, and were replaced with REPLACEMENT CHARACTER.\n"
     ]
    },
    {
     "name": "stdout",
     "output_type": "stream",
     "text": [
      "https://tse1-mm.cn.bing.net/th/id/OIP-C.NifhWZtHid65leC22iPfGAHaE7?w=237&h=180&c=7&r=0&o=5&dpr=2&pid=1.7\n",
      "len_with_frac2 1.4197952218430034\n",
      "len_with_frac3 1.3174603174603174\n",
      "Finished***:   Masked Duck\n",
      "http://bing.com/images/search?q=Black-bellied+Whistling-Duck\n"
     ]
    },
    {
     "name": "stderr",
     "output_type": "stream",
     "text": [
      "Some characters could not be decoded, and were replaced with REPLACEMENT CHARACTER.\n"
     ]
    },
    {
     "name": "stdout",
     "output_type": "stream",
     "text": [
      "https://tse2-mm.cn.bing.net/th/id/OIP-C.QkTBnFybqdmDCGJ-DlHrNAHaE8?w=292&h=195&c=7&r=0&o=5&dpr=2&pid=1.7\n",
      "https://tse1-mm.cn.bing.net/th/id/OIP-C.aq-HLkMWJmKil6ATclUd0wHaGQ?w=231&h=195&c=7&r=0&o=5&dpr=2&pid=1.7\n"
     ]
    },
    {
     "name": "stderr",
     "output_type": "stream",
     "text": [
      "Some characters could not be decoded, and were replaced with REPLACEMENT CHARACTER.\n"
     ]
    },
    {
     "name": "stdout",
     "output_type": "stream",
     "text": [
      "len_with_frac2 1.5\n",
      "len_with_frac3 1.1846153846153846\n",
      "Finished***:   Black-bellied Whistling-Duck\n",
      "http://bing.com/images/search?q=Musk+Duck\n",
      "https://tse4-mm.cn.bing.net/th/id/OIP-C.CzsJU_Pz-5kY2K0pE9L7HgAAAA?w=273&h=180&c=7&r=0&o=5&dpr=2&pid=1.7\n"
     ]
    },
    {
     "name": "stderr",
     "output_type": "stream",
     "text": [
      "Some characters could not be decoded, and were replaced with REPLACEMENT CHARACTER.\n"
     ]
    },
    {
     "name": "stdout",
     "output_type": "stream",
     "text": [
      "https://tse1-mm.cn.bing.net/th/id/OIP-C.RKo-u7O73d8x9GPZrEaj1QAAAA?w=127&h=180&c=7&r=0&o=5&dpr=2&pid=1.7\n"
     ]
    },
    {
     "name": "stderr",
     "output_type": "stream",
     "text": [
      "Some characters could not be decoded, and were replaced with REPLACEMENT CHARACTER.\n"
     ]
    },
    {
     "name": "stdout",
     "output_type": "stream",
     "text": [
      "len_with_frac2 1.5197132616487454\n",
      "len_with_frac3 0.7055555555555556\n",
      "Finished***:   Musk Duck\n",
      "http://bing.com/images/search?q=Graylag+Goose+(Domestic+type)\n"
     ]
    },
    {
     "name": "stderr",
     "output_type": "stream",
     "text": [
      "Some characters could not be decoded, and were replaced with REPLACEMENT CHARACTER.\n"
     ]
    },
    {
     "name": "stdout",
     "output_type": "stream",
     "text": [
      "https://tse1-mm.cn.bing.net/th/id/OIP-C.w5Y8bFWi_OQBps8l_l694gHaJQ?w=141&h=180&c=7&r=0&o=5&dpr=2&pid=1.7\n",
      "https://tse3-mm.cn.bing.net/th/id/OIP-C.s_QzSaT57VCMwRlLfIXi9gHaJQ?w=141&h=180&c=7&r=0&o=5&dpr=2&pid=1.7\n"
     ]
    },
    {
     "name": "stderr",
     "output_type": "stream",
     "text": [
      "Some characters could not be decoded, and were replaced with REPLACEMENT CHARACTER.\n"
     ]
    },
    {
     "name": "stdout",
     "output_type": "stream",
     "text": [
      "len_with_frac2 0.7833333333333333\n",
      "len_with_frac3 0.7833333333333333\n",
      "Finished***:   Graylag Goose (Domestic type)\n",
      "http://bing.com/images/search?q=Bar-headed+Goose\n",
      "https://tse2-mm.cn.bing.net/th/id/OIP-C.uakhg8t60YUFPltJhSlxLQHaFj?w=222&h=180&c=7&r=0&o=5&dpr=2&pid=1.7\n"
     ]
    },
    {
     "name": "stderr",
     "output_type": "stream",
     "text": [
      "Some characters could not be decoded, and were replaced with REPLACEMENT CHARACTER.\n",
      "Some characters could not be decoded, and were replaced with REPLACEMENT CHARACTER.\n"
     ]
    },
    {
     "name": "stdout",
     "output_type": "stream",
     "text": [
      "https://tse4-mm.cn.bing.net/th/id/OIP-C.OdVFTAJtDHHGabqk_HDkbQHaE8?w=249&h=180&c=7&r=0&o=5&dpr=2&pid=1.7\n",
      "len_with_frac2 1.2338028169014084\n",
      "len_with_frac3 1.3860759493670887\n",
      "Finished***:   Bar-headed Goose\n",
      "http://bing.com/images/search?q=Domestic+goose+sp.+(Domestic+type)\n",
      "https://tse2-mm.cn.bing.net/th/id/OIP-C.aFn2xuE5Y90wgl75erd9wQHaE7?w=238&h=180&c=7&r=0&o=5&dpr=2&pid=1.7\n"
     ]
    },
    {
     "name": "stderr",
     "output_type": "stream",
     "text": [
      "Some characters could not be decoded, and were replaced with REPLACEMENT CHARACTER.\n"
     ]
    },
    {
     "name": "stdout",
     "output_type": "stream",
     "text": [
      "https://tse4-mm.cn.bing.net/th/id/OIP-C.xt8C8Bn0i9b2nBEvl-V8wwHaJQ?w=127&h=180&c=7&r=0&o=5&dpr=2&pid=1.7\n"
     ]
    },
    {
     "name": "stderr",
     "output_type": "stream",
     "text": [
      "Some characters could not be decoded, and were replaced with REPLACEMENT CHARACTER.\n"
     ]
    },
    {
     "name": "stdout",
     "output_type": "stream",
     "text": [
      "len_with_frac2 1.3238095238095238\n",
      "len_with_frac3 0.7055555555555556\n",
      "Finished***:   Domestic goose sp. (Domestic type)\n",
      "http://bing.com/images/search?q=Gray+Teal\n"
     ]
    },
    {
     "name": "stderr",
     "output_type": "stream",
     "text": [
      "Some characters could not be decoded, and were replaced with REPLACEMENT CHARACTER.\n"
     ]
    },
    {
     "name": "stdout",
     "output_type": "stream",
     "text": [
      "https://tse3-mm.cn.bing.net/th/id/OIP-C.UFeGFpIHFVU9wFrXYyyZbQHaFj?w=245&h=184&c=7&r=0&o=5&dpr=2&pid=1.7\n",
      "https://tse1-mm.cn.bing.net/th/id/OIP-C.tU3Y4jne0Nsou_0VnQ1__AHaES?w=318&h=184&c=7&r=0&o=5&dpr=2&pid=1.7\n"
     ]
    },
    {
     "name": "stderr",
     "output_type": "stream",
     "text": [
      "Some characters could not be decoded, and were replaced with REPLACEMENT CHARACTER.\n"
     ]
    },
    {
     "name": "stdout",
     "output_type": "stream",
     "text": [
      "len_with_frac2 1.332394366197183\n",
      "len_with_frac3 1.72992700729927\n",
      "Finished***:   Gray Teal\n",
      "http://bing.com/images/search?q=Graylag+Goose\n",
      "https://tse2-mm.cn.bing.net/th/id/OIP-C.n5tzX4_zdz82kDWKiuHPdAHaGG?w=203&h=180&c=7&r=0&o=5&dpr=2&pid=1.7\n"
     ]
    },
    {
     "name": "stderr",
     "output_type": "stream",
     "text": [
      "Some characters could not be decoded, and were replaced with REPLACEMENT CHARACTER.\n",
      "Some characters could not be decoded, and were replaced with REPLACEMENT CHARACTER.\n"
     ]
    },
    {
     "name": "stdout",
     "output_type": "stream",
     "text": [
      "https://tse1-mm.cn.bing.net/th/id/OIP-C.qz9rv5EI2-qmFPlhGkVBdQHaFj?w=223&h=180&c=7&r=0&o=5&dpr=2&pid=1.7\n",
      "len_with_frac2 1.1277777777777778\n",
      "len_with_frac3 1.2394366197183098\n",
      "Finished***:   Graylag Goose\n",
      "http://bing.com/images/search?q=Common+Shelduck\n"
     ]
    },
    {
     "name": "stderr",
     "output_type": "stream",
     "text": [
      "Some characters could not be decoded, and were replaced with REPLACEMENT CHARACTER.\n"
     ]
    },
    {
     "name": "stdout",
     "output_type": "stream",
     "text": [
      "https://tse4-mm.cn.bing.net/th/id/OIP-C.KJSiykV01QnW5_LaVuwxxQHaEm?w=314&h=194&c=7&r=0&o=5&dpr=2&pid=1.7\n",
      "https://tse4-mm.cn.bing.net/th/id/OIP-C.ESNgMBc02yAjoyzzY2724wHaFj?w=259&h=194&c=7&r=0&o=5&dpr=2&pid=1.7\n"
     ]
    },
    {
     "name": "stderr",
     "output_type": "stream",
     "text": [
      "Some characters could not be decoded, and were replaced with REPLACEMENT CHARACTER.\n"
     ]
    },
    {
     "name": "stdout",
     "output_type": "stream",
     "text": [
      "len_with_frac2 1.621160409556314\n",
      "len_with_frac3 1.3352112676056338\n",
      "Finished***:   Common Shelduck\n",
      "http://bing.com/images/search?q=Maned+Duck\n",
      "https://tse3-mm.cn.bing.net/th/id/OIP-C.dHMJHTv6gNj5TAYyDKPK5gHaFo?w=239&h=181&c=7&r=0&o=5&dpr=2&pid=1.7\n"
     ]
    },
    {
     "name": "stderr",
     "output_type": "stream",
     "text": [
      "Some characters could not be decoded, and were replaced with REPLACEMENT CHARACTER.\n"
     ]
    },
    {
     "name": "stdout",
     "output_type": "stream",
     "text": [
      "https://tse4-mm.cn.bing.net/th/id/OIP-C.dhyIWDigX6TZ3TyP3bahxQHaIW?w=161&h=181&c=7&r=0&o=5&dpr=2&pid=1.7\n"
     ]
    },
    {
     "name": "stderr",
     "output_type": "stream",
     "text": [
      "Some characters could not be decoded, and were replaced with REPLACEMENT CHARACTER.\n"
     ]
    },
    {
     "name": "stdout",
     "output_type": "stream",
     "text": [
      "len_with_frac2 1.3203342618384402\n",
      "len_with_frac3 0.8895027624309392\n",
      "Finished***:   Maned Duck\n",
      "http://bing.com/images/search?q=Indian+Spot-billed+Duck\n"
     ]
    },
    {
     "name": "stderr",
     "output_type": "stream",
     "text": [
      "Some characters could not be decoded, and were replaced with REPLACEMENT CHARACTER.\n"
     ]
    },
    {
     "name": "stdout",
     "output_type": "stream",
     "text": [
      "https://tse1-mm.cn.bing.net/th/id/OIP-C.MolhJ-nSomlOZUcCjlUuTAHaFj?w=224&h=180&c=7&r=0&o=5&dpr=2&pid=1.7\n"
     ]
    },
    {
     "name": "stderr",
     "output_type": "stream",
     "text": [
      "Some characters could not be decoded, and were replaced with REPLACEMENT CHARACTER.\n"
     ]
    },
    {
     "name": "stdout",
     "output_type": "stream",
     "text": [
      "https://tse4-mm.cn.bing.net/th/id/OIP-C.y5lNW73zoTErAF5oPC8QFwHaFA?w=249&h=180&c=7&r=0&o=5&dpr=2&pid=1.7\n",
      "len_with_frac2 1.2450704225352112\n",
      "len_with_frac3 1.384375\n",
      "Finished***:   Indian Spot-billed Duck\n",
      "http://bing.com/images/search?q=Yellow-billed+Pintail\n",
      "https://tse3-mm.cn.bing.net/th/id/OIP-C.46ShCjtyoZaUuWhKuJuh2wHaGV?w=184&h=180&c=7&r=0&o=5&dpr=2&pid=1.7\n"
     ]
    },
    {
     "name": "stderr",
     "output_type": "stream",
     "text": [
      "Some characters could not be decoded, and were replaced with REPLACEMENT CHARACTER.\n"
     ]
    },
    {
     "name": "stdout",
     "output_type": "stream",
     "text": [
      "https://tse1-mm.cn.bing.net/th/id/OIP-C.LafzILuhndWpCyj5Wotb3AHaE7?w=237&h=180&c=7&r=0&o=5&dpr=2&pid=1.7\n"
     ]
    },
    {
     "name": "stderr",
     "output_type": "stream",
     "text": [
      "Some characters could not be decoded, and were replaced with REPLACEMENT CHARACTER.\n"
     ]
    },
    {
     "name": "stdout",
     "output_type": "stream",
     "text": [
      "len_with_frac2 1.0222222222222221\n",
      "len_with_frac3 1.3174603174603174\n",
      "Finished***:   Yellow-billed Pintail\n",
      "http://bing.com/images/search?q=Mallard+(Domestic+type)\n"
     ]
    },
    {
     "name": "stderr",
     "output_type": "stream",
     "text": [
      "Some characters could not be decoded, and were replaced with REPLACEMENT CHARACTER.\n"
     ]
    },
    {
     "name": "stdout",
     "output_type": "stream",
     "text": [
      "https://tse4-mm.cn.bing.net/th/id/OIP-C.1eiMTxdBJ282HiYRJ0yuuQHaFj?w=207&h=180&c=7&r=0&o=5&dpr=2&pid=1.7\n",
      "https://tse1-mm.cn.bing.net/th/id/OIP-C.qvbEl2-Y4d_UGxBrsPw8TwHaFg?w=208&h=180&c=7&r=0&o=5&dpr=2&pid=1.7\n"
     ]
    },
    {
     "name": "stderr",
     "output_type": "stream",
     "text": [
      "Some characters could not be decoded, and were replaced with REPLACEMENT CHARACTER.\n"
     ]
    },
    {
     "name": "stdout",
     "output_type": "stream",
     "text": [
      "len_with_frac2 1.152112676056338\n",
      "len_with_frac3 1.15625\n",
      "Finished***:   Mallard (Domestic type)\n",
      "http://bing.com/images/search?q=Yellow-billed+Teal\n",
      "https://tse2-mm.cn.bing.net/th/id/OIP-C.mwMVZTxN-zgQjkf0Jb6gAwHaFj?w=235&h=180&c=7&r=0&o=5&dpr=2&pid=1.7\n"
     ]
    },
    {
     "name": "stderr",
     "output_type": "stream",
     "text": [
      "Some characters could not be decoded, and were replaced with REPLACEMENT CHARACTER.\n"
     ]
    },
    {
     "name": "stdout",
     "output_type": "stream",
     "text": [
      "https://tse1-mm.cn.bing.net/th/id/OIP-C.xYrDnOcCMMbAth93ce406wHaHa?w=176&h=180&c=7&r=0&o=5&dpr=2&pid=1.7\n"
     ]
    },
    {
     "name": "stderr",
     "output_type": "stream",
     "text": [
      "Some characters could not be decoded, and were replaced with REPLACEMENT CHARACTER.\n"
     ]
    },
    {
     "name": "stdout",
     "output_type": "stream",
     "text": [
      "len_with_frac2 1.3070422535211268\n",
      "len_with_frac3 0.9777777777777777\n",
      "Finished***:   Yellow-billed Teal\n",
      "http://bing.com/images/search?q=Chestnut+Teal\n",
      "https://tse2-mm.cn.bing.net/th/id/OIP-C.6nZ62VCS7cRXIknmVUHVKwHaE7?w=261&h=180&c=7&r=0&o=5&dpr=2&pid=1.7\n"
     ]
    },
    {
     "name": "stderr",
     "output_type": "stream",
     "text": [
      "Some characters could not be decoded, and were replaced with REPLACEMENT CHARACTER.\n",
      "Some characters could not be decoded, and were replaced with REPLACEMENT CHARACTER.\n"
     ]
    },
    {
     "name": "stdout",
     "output_type": "stream",
     "text": [
      "https://tse3-mm.cn.bing.net/th/id/OIP-C.WuxzElWZwvvIYU0F-S9gZwHaGE?w=211&h=180&c=7&r=0&o=5&dpr=2&pid=1.7\n",
      "len_with_frac2 1.4507936507936507\n",
      "len_with_frac3 1.1722222222222223\n",
      "Finished***:   Chestnut Teal\n",
      "http://bing.com/images/search?q=White-faced+Whistling-Duck\n"
     ]
    },
    {
     "name": "stderr",
     "output_type": "stream",
     "text": [
      "Some characters could not be decoded, and were replaced with REPLACEMENT CHARACTER.\n"
     ]
    },
    {
     "name": "stdout",
     "output_type": "stream",
     "text": [
      "https://tse2-mm.cn.bing.net/th/id/OIP-C.zEfcNztSlqSj071C_Fv_ZgHaHa?w=196&h=196&c=7&r=0&o=5&dpr=2&pid=1.7\n",
      "https://tse3-mm.cn.bing.net/th/id/OIP-C.DZO0GTxua47zhOknzvWpyAHaE8?w=294&h=196&c=7&r=0&o=5&dpr=2&pid=1.7\n"
     ]
    },
    {
     "name": "stderr",
     "output_type": "stream",
     "text": [
      "Some characters could not be decoded, and were replaced with REPLACEMENT CHARACTER.\n"
     ]
    },
    {
     "name": "stdout",
     "output_type": "stream",
     "text": [
      "len_with_frac2 1.0\n",
      "len_with_frac3 1.5\n",
      "Finished***:   White-faced Whistling-Duck\n",
      "http://bing.com/images/search?q=Mottled+Duck\n"
     ]
    },
    {
     "name": "stderr",
     "output_type": "stream",
     "text": [
      "Some characters could not be decoded, and were replaced with REPLACEMENT CHARACTER.\n"
     ]
    },
    {
     "name": "stdout",
     "output_type": "stream",
     "text": [
      "https://tse1-mm.cn.bing.net/th/id/OIP-C.WX1AhscIvLD6gqnsxc0engHaHG?w=172&h=180&c=7&r=0&o=5&dpr=2&pid=1.7\n",
      "https://tse2-mm.cn.bing.net/th/id/OIP-C.QhtDlbDMSzzgcDRvzkmd6QHaEo?w=264&h=180&c=7&r=0&o=5&dpr=2&pid=1.7\n"
     ]
    },
    {
     "name": "stderr",
     "output_type": "stream",
     "text": [
      "Some characters could not be decoded, and were replaced with REPLACEMENT CHARACTER.\n"
     ]
    },
    {
     "name": "stdout",
     "output_type": "stream",
     "text": [
      "len_with_frac2 0.9555555555555556\n",
      "len_with_frac3 1.4695945945945945\n",
      "Finished***:   Mottled Duck\n",
      "http://bing.com/images/search?q=African+Openbill\n",
      "https://tse4-mm.cn.bing.net/th/id/OIP-C.qa31UN1z_x7t1VxkFqKBsQHaLJ?w=119&h=180&c=7&r=0&o=5&dpr=2&pid=1.7\n"
     ]
    },
    {
     "name": "stderr",
     "output_type": "stream",
     "text": [
      "Some characters could not be decoded, and were replaced with REPLACEMENT CHARACTER.\n",
      "Some characters could not be decoded, and were replaced with REPLACEMENT CHARACTER.\n"
     ]
    },
    {
     "name": "stdout",
     "output_type": "stream",
     "text": [
      "https://tse2-mm.cn.bing.net/th/id/OIP-C.psGBRkl8SwJb1Xasa47ojwHaE5?w=270&h=180&c=7&r=0&o=5&dpr=2&pid=1.7\n",
      "len_with_frac2 0.6611111111111111\n",
      "len_with_frac3 1.5015974440894568\n",
      "Finished***:   African Openbill\n",
      "http://bing.com/images/search?q=Eastern+Spot-billed+Duck\n",
      "https://tse1-mm.cn.bing.net/th/id/OIP-C.0GI9y5cgtbLAFxc9HbpafAHaF7?w=209&h=180&c=7&r=0&o=5&dpr=2&pid=1.7\n"
     ]
    },
    {
     "name": "stderr",
     "output_type": "stream",
     "text": [
      "Some characters could not be decoded, and were replaced with REPLACEMENT CHARACTER.\n"
     ]
    },
    {
     "name": "stdout",
     "output_type": "stream",
     "text": [
      "https://tse1-mm.cn.bing.net/th/id/OIP-C.aDMfwjNPUCR6pdJGT8g1ewHaE8?w=251&h=180&c=7&r=0&o=5&dpr=2&pid=1.7\n"
     ]
    },
    {
     "name": "stderr",
     "output_type": "stream",
     "text": [
      "Some characters could not be decoded, and were replaced with REPLACEMENT CHARACTER.\n"
     ]
    },
    {
     "name": "stdout",
     "output_type": "stream",
     "text": [
      "len_with_frac2 1.1611111111111112\n",
      "len_with_frac3 1.3955696202531647\n",
      "Finished***:   Eastern Spot-billed Duck\n",
      "http://bing.com/images/search?q=Lesser+Whistling-Duck\n",
      "https://tse4-mm.cn.bing.net/th/id/OIP-C.ZwmqG7lgP6WkUdCz_sXSvAHaFj?w=236&h=180&c=7&r=0&o=5&dpr=2&pid=1.7\n"
     ]
    },
    {
     "name": "stderr",
     "output_type": "stream",
     "text": [
      "Some characters could not be decoded, and were replaced with REPLACEMENT CHARACTER.\n",
      "Some characters could not be decoded, and were replaced with REPLACEMENT CHARACTER.\n"
     ]
    },
    {
     "name": "stdout",
     "output_type": "stream",
     "text": [
      "https://tse1-mm.cn.bing.net/th/id/OIP-C.H3JypECEGt6hLcJD8uqCkwHaHa?w=177&h=180&c=7&r=0&o=5&dpr=2&pid=1.7\n",
      "len_with_frac2 1.3126760563380282\n",
      "len_with_frac3 0.9833333333333333\n",
      "Finished***:   Lesser Whistling-Duck\n",
      "http://bing.com/images/search?q=White-cheeked+Pintail\n",
      "https://tse4-mm.cn.bing.net/th/id/OIP-C.XOclbPO3JIgGitDYpQxONwHaEo?w=259&h=180&c=7&r=0&o=5&dpr=2&pid=1.7\n"
     ]
    },
    {
     "name": "stderr",
     "output_type": "stream",
     "text": [
      "Some characters could not be decoded, and were replaced with REPLACEMENT CHARACTER.\n"
     ]
    },
    {
     "name": "stdout",
     "output_type": "stream",
     "text": [
      "https://tse3-mm.cn.bing.net/th/id/OIP-C.mBvhzKVU95oVtD4HgJRt3gHaFn?w=214&h=180&c=7&r=0&o=5&dpr=2&pid=1.7\n"
     ]
    },
    {
     "name": "stderr",
     "output_type": "stream",
     "text": [
      "Some characters could not be decoded, and were replaced with REPLACEMENT CHARACTER.\n"
     ]
    },
    {
     "name": "stdout",
     "output_type": "stream",
     "text": [
      "len_with_frac2 1.4391891891891893\n",
      "len_with_frac3 1.1894150417827298\n",
      "Finished***:   White-cheeked Pintail\n",
      "http://bing.com/images/search?q=Pink-footed+Goose\n"
     ]
    },
    {
     "name": "stderr",
     "output_type": "stream",
     "text": [
      "Some characters could not be decoded, and were replaced with REPLACEMENT CHARACTER.\n",
      "Some characters could not be decoded, and were replaced with REPLACEMENT CHARACTER.\n"
     ]
    },
    {
     "name": "stdout",
     "output_type": "stream",
     "text": [
      "https://tse3-mm.cn.bing.net/th/id/OIP-C.7De87wdEnO9H4R2rAByL6QHaE8?w=257&h=180&c=7&r=0&o=5&dpr=2&pid=1.7\n",
      "https://tse2-mm.cn.bing.net/th/id/OIP-C.V9d9Ppcw0MbjmqLPw3B_DQHaJQ?w=137&h=180&c=7&r=0&o=5&dpr=2&pid=1.7\n",
      "len_with_frac2 1.4303797468354431\n",
      "len_with_frac3 0.7611111111111111\n",
      "Finished***:   Pink-footed Goose\n",
      "http://bing.com/images/search?q=Australian+Shelduck\n",
      "https://tse2-mm.cn.bing.net/th/id/OIP-C.7oH641FP7GkbyCV9s0hGkgHaHa?w=163&h=180&c=7&r=0&o=5&dpr=2&pid=1.7\n"
     ]
    },
    {
     "name": "stderr",
     "output_type": "stream",
     "text": [
      "Some characters could not be decoded, and were replaced with REPLACEMENT CHARACTER.\n",
      "Some characters could not be decoded, and were replaced with REPLACEMENT CHARACTER.\n"
     ]
    },
    {
     "name": "stdout",
     "output_type": "stream",
     "text": [
      "https://tse3-mm.cn.bing.net/th/id/OIP-C.54T-bc0vrEcU4Fh5cHk0hgHaFk?w=217&h=180&c=7&r=0&o=5&dpr=2&pid=1.7\n",
      "len_with_frac2 0.9055555555555556\n",
      "len_with_frac3 1.2078651685393258\n",
      "Finished***:   Australian Shelduck\n",
      "http://bing.com/images/search?q=Yellow-billed+Duck\n",
      "https://tse1-mm.cn.bing.net/th/id/OIP-C.K1CCruuPQLJ261vI2JJ7bwHaEK?w=333&h=187&c=7&r=0&o=5&dpr=2&pid=1.7\n"
     ]
    },
    {
     "name": "stderr",
     "output_type": "stream",
     "text": [
      "Some characters could not be decoded, and were replaced with REPLACEMENT CHARACTER.\n",
      "Some characters could not be decoded, and were replaced with REPLACEMENT CHARACTER.\n"
     ]
    },
    {
     "name": "stdout",
     "output_type": "stream",
     "text": [
      "https://tse4-mm.cn.bing.net/th/id/OIP-C.HbdC5my6GCKGDmQZslTxxgHaEW?w=321&h=187&c=7&r=0&o=5&dpr=2&pid=1.7\n",
      "len_with_frac2 1.781954887218045\n",
      "len_with_frac3 1.7148014440433212\n",
      "Finished***:   Yellow-billed Duck\n",
      "http://bing.com/images/search?q=goose+sp.\n"
     ]
    },
    {
     "name": "stderr",
     "output_type": "stream",
     "text": [
      "Some characters could not be decoded, and were replaced with REPLACEMENT CHARACTER.\n"
     ]
    },
    {
     "name": "stdout",
     "output_type": "stream",
     "text": [
      "https://tse4-mm.cn.bing.net/th/id/OIP-C.KzeZzuDMC8ABlNn69UNN8QHaEt?w=252&h=180&c=7&r=0&o=5&dpr=2&pid=1.7\n",
      "https://tse4-mm.cn.bing.net/th/id/OIP-C.xt8C8Bn0i9b2nBEvl-V8wwHaJQ?w=128&h=180&c=7&r=0&o=5&dpr=2&pid=1.7\n"
     ]
    },
    {
     "name": "stderr",
     "output_type": "stream",
     "text": [
      "Some characters could not be decoded, and were replaced with REPLACEMENT CHARACTER.\n"
     ]
    },
    {
     "name": "stdout",
     "output_type": "stream",
     "text": [
      "len_with_frac2 1.4019933554817277\n",
      "len_with_frac3 0.7111111111111111\n",
      "[Errno 2] No such file or directory: './All_species/ducks/goose_sp.___Anser/Branta_sp__2019.html'\n",
      "killed.....:   goose sp.\n",
      "http://bing.com/images/search?q=Asian+Openbill\n",
      "https://tse1-mm.cn.bing.net/th/id/OIP-C.oJryYnwPcmVzf4wSPjLPYQHaLE?w=117&h=180&c=7&r=0&o=5&dpr=2&pid=1.7\n"
     ]
    },
    {
     "name": "stderr",
     "output_type": "stream",
     "text": [
      "Some characters could not be decoded, and were replaced with REPLACEMENT CHARACTER.\n"
     ]
    },
    {
     "name": "stdout",
     "output_type": "stream",
     "text": [
      "https://tse3-mm.cn.bing.net/th/id/OIP-C.9Zr58CbfZsG1aotRdIFOJgHaFj?w=234&h=180&c=7&r=0&o=5&dpr=2&pid=1.7\n"
     ]
    },
    {
     "name": "stderr",
     "output_type": "stream",
     "text": [
      "Some characters could not be decoded, and were replaced with REPLACEMENT CHARACTER.\n"
     ]
    },
    {
     "name": "stdout",
     "output_type": "stream",
     "text": [
      "len_with_frac2 0.65\n",
      "len_with_frac3 1.3014084507042254\n",
      "Finished***:   Asian Openbill\n",
      "http://bing.com/images/search?q=Black-headed+Duck\n"
     ]
    },
    {
     "name": "stderr",
     "output_type": "stream",
     "text": [
      "Some characters could not be decoded, and were replaced with REPLACEMENT CHARACTER.\n"
     ]
    },
    {
     "name": "stdout",
     "output_type": "stream",
     "text": [
      "https://tse2-mm.cn.bing.net/th/id/OIP-C.aaS3a6CFtndZ3-y8DYT2EwHaE7?w=302&h=201&c=7&r=0&o=5&dpr=2&pid=1.7\n",
      "https://tse1-mm.cn.bing.net/th/id/OIP-C.UEbaFJLtWTiT0bSbnlYazgHaE5?w=304&h=201&c=7&r=0&o=5&dpr=2&pid=1.7\n"
     ]
    },
    {
     "name": "stderr",
     "output_type": "stream",
     "text": [
      "Some characters could not be decoded, and were replaced with REPLACEMENT CHARACTER.\n"
     ]
    },
    {
     "name": "stdout",
     "output_type": "stream",
     "text": [
      "len_with_frac2 1.5047619047619047\n",
      "len_with_frac3 1.5143769968051117\n",
      "Finished***:   Black-headed Duck\n",
      "http://bing.com/images/search?q=Ferruginous+Duck\n",
      "https://tse4-mm.cn.bing.net/th/id/OIP-C.yrOWWW4h6w5NXjlC0j8EigHaFk?w=218&h=180&c=7&r=0&o=5&dpr=2&pid=1.7\n"
     ]
    },
    {
     "name": "stderr",
     "output_type": "stream",
     "text": [
      "Some characters could not be decoded, and were replaced with REPLACEMENT CHARACTER.\n"
     ]
    },
    {
     "name": "stdout",
     "output_type": "stream",
     "text": [
      "https://tse1-mm.cn.bing.net/th/id/OIP-C.svmvPiZOLnlkNPTgQw9X1gHaFj?w=218&h=180&c=7&r=0&o=5&dpr=2&pid=1.7\n"
     ]
    },
    {
     "name": "stderr",
     "output_type": "stream",
     "text": [
      "Some characters could not be decoded, and were replaced with REPLACEMENT CHARACTER.\n"
     ]
    },
    {
     "name": "stdout",
     "output_type": "stream",
     "text": [
      "len_with_frac2 1.2134831460674158\n",
      "len_with_frac3 1.2112676056338028\n",
      "Finished***:   Ferruginous Duck\n",
      "http://bing.com/images/search?q=Mallard+Mottled+Duck\n",
      "https://tse2-mm.cn.bing.net/th/id/OIP-C.AT6e-FfvkHnWa2w9r_nuFgHaFq?w=258&h=196&c=7&r=0&o=5&dpr=2&pid=1.7\n"
     ]
    },
    {
     "name": "stderr",
     "output_type": "stream",
     "text": [
      "Some characters could not be decoded, and were replaced with REPLACEMENT CHARACTER.\n"
     ]
    },
    {
     "name": "stdout",
     "output_type": "stream",
     "text": [
      "https://tse2-mm.cn.bing.net/th/id/OIP-C.dQYgULyr5fEUod0lr1-8hQHaFj?w=263&h=196&c=7&r=0&o=5&dpr=2&pid=1.7\n"
     ]
    },
    {
     "name": "stderr",
     "output_type": "stream",
     "text": [
      "Some characters could not be decoded, and were replaced with REPLACEMENT CHARACTER.\n"
     ]
    },
    {
     "name": "stdout",
     "output_type": "stream",
     "text": [
      "Location values cannot contain NaNs.\n",
      "killed.....:   Mallard_or_Mottled Duck\n",
      "http://bing.com/images/search?q=Crested+Duck\n"
     ]
    },
    {
     "name": "stderr",
     "output_type": "stream",
     "text": [
      "Some characters could not be decoded, and were replaced with REPLACEMENT CHARACTER.\n"
     ]
    },
    {
     "name": "stdout",
     "output_type": "stream",
     "text": [
      "https://tse2-mm.cn.bing.net/th/id/OIP-C.EMacWBuV0eO4_HeaxNy9FgHaFj?w=232&h=180&c=7&r=0&o=5&dpr=2&pid=1.7\n",
      "https://tse4-mm.cn.bing.net/th/id/OIP-C.qsf4orWFllald_nAsvwUpwHaE8?w=262&h=180&c=7&r=0&o=5&dpr=2&pid=1.7\n"
     ]
    },
    {
     "name": "stderr",
     "output_type": "stream",
     "text": [
      "Some characters could not be decoded, and were replaced with REPLACEMENT CHARACTER.\n"
     ]
    },
    {
     "name": "stdout",
     "output_type": "stream",
     "text": [
      "len_with_frac2 1.2901408450704226\n",
      "len_with_frac3 1.4556962025316456\n",
      "Finished***:   Crested Duck\n",
      "http://bing.com/images/search?q=Pink-eared+Duck\n",
      "https://tse3-mm.cn.bing.net/th/id/OIP-C.lYpuXcQr0kpoltZkU4Si-AHaEn?w=313&h=195&c=7&r=0&o=5&dpr=2&pid=1.7\n"
     ]
    },
    {
     "name": "stderr",
     "output_type": "stream",
     "text": [
      "Some characters could not be decoded, and were replaced with REPLACEMENT CHARACTER.\n"
     ]
    },
    {
     "name": "stdout",
     "output_type": "stream",
     "text": [
      "https://tse4-mm.cn.bing.net/th/id/OIP-C.rLnkdnotqGyVLjt3IfUEfwHaE9?w=292&h=195&c=7&r=0&o=5&dpr=2&pid=1.7\n"
     ]
    },
    {
     "name": "stderr",
     "output_type": "stream",
     "text": [
      "Some characters could not be decoded, and were replaced with REPLACEMENT CHARACTER.\n"
     ]
    },
    {
     "name": "stdout",
     "output_type": "stream",
     "text": [
      "len_with_frac2 1.6067796610169491\n",
      "len_with_frac3 1.4952681388012619\n",
      "Finished***:   Pink-eared Duck\n",
      "http://bing.com/images/search?q=Blue-billed+Duck\n",
      "https://tse2-mm.cn.bing.net/th/id/OIP-C.jDuH7eUi-2zvw1K7wLXQ1AHaFj?w=221&h=180&c=7&r=0&o=5&dpr=2&pid=1.7\n"
     ]
    },
    {
     "name": "stderr",
     "output_type": "stream",
     "text": [
      "Some characters could not be decoded, and were replaced with REPLACEMENT CHARACTER.\n",
      "Some characters could not be decoded, and were replaced with REPLACEMENT CHARACTER.\n"
     ]
    },
    {
     "name": "stdout",
     "output_type": "stream",
     "text": [
      "https://tse1-mm.cn.bing.net/th/id/OIP-C.x0dUhDeVIODuiDu7TRsBlQHaE8?w=249&h=180&c=7&r=0&o=5&dpr=2&pid=1.7\n",
      "len_with_frac2 1.228169014084507\n",
      "len_with_frac3 1.3860759493670887\n",
      "Finished***:   Blue-billed Duck\n",
      "http://bing.com/images/search?q=dabbling+duck+sp.\n",
      "https://tse2-mm.cn.bing.net/th/id/OIP-C.JxlotO6pRfCIniHXTkIx-gAAAA?w=225&h=180&c=7&r=0&o=5&dpr=2&pid=1.7\n"
     ]
    },
    {
     "name": "stderr",
     "output_type": "stream",
     "text": [
      "Some characters could not be decoded, and were replaced with REPLACEMENT CHARACTER.\n"
     ]
    },
    {
     "name": "stdout",
     "output_type": "stream",
     "text": [
      "https://tse4-mm.cn.bing.net/th/id/OIP-C.hUxZPNEqhyW9I10vhCqe4gHaFl?w=217&h=180&c=7&r=0&o=5&dpr=2&pid=1.7\n"
     ]
    },
    {
     "name": "stderr",
     "output_type": "stream",
     "text": [
      "Some characters could not be decoded, and were replaced with REPLACEMENT CHARACTER.\n"
     ]
    },
    {
     "name": "stdout",
     "output_type": "stream",
     "text": [
      "len_with_frac2 1.2514619883040936\n",
      "len_with_frac3 1.207282913165266\n",
      "Finished***:   dabbling duck sp.\n",
      "http://bing.com/images/search?q=Plumed+Whistling-Duck\n"
     ]
    },
    {
     "name": "stderr",
     "output_type": "stream",
     "text": [
      "Some characters could not be decoded, and were replaced with REPLACEMENT CHARACTER.\n"
     ]
    },
    {
     "name": "stdout",
     "output_type": "stream",
     "text": [
      "https://tse4-mm.cn.bing.net/th/id/OIP-C.UvK4R3W6R2O9Map98xAA2gHaFP?w=219&h=180&c=7&r=0&o=5&dpr=2&pid=1.7\n",
      "https://tse2-mm.cn.bing.net/th/id/OIP-C.vpYIHUH4nroAhfSeWmUDMwHaE9?w=231&h=180&c=7&r=0&o=5&dpr=2&pid=1.7\n"
     ]
    },
    {
     "name": "stderr",
     "output_type": "stream",
     "text": [
      "Some characters could not be decoded, and were replaced with REPLACEMENT CHARACTER.\n"
     ]
    },
    {
     "name": "stdout",
     "output_type": "stream",
     "text": [
      "len_with_frac2 1.217910447761194\n",
      "len_with_frac3 1.2839116719242902\n",
      "Finished***:   Plumed Whistling-Duck\n",
      "http://bing.com/images/search?q=Spotted+Whistling-Duck\n",
      "https://tse4-mm.cn.bing.net/th/id/OIP-C.PC0k_CDLFzIAfmqUcvjHQQHaE7?w=306&h=203&c=7&r=0&o=5&dpr=2&pid=1.7\n"
     ]
    },
    {
     "name": "stderr",
     "output_type": "stream",
     "text": [
      "Some characters could not be decoded, and were replaced with REPLACEMENT CHARACTER.\n"
     ]
    },
    {
     "name": "stdout",
     "output_type": "stream",
     "text": [
      "https://tse4-mm.cn.bing.net/th/id/OIP-C.lgFNpSmCJElawLPW_jF6JAHaFj?w=271&h=203&c=7&r=0&o=5&dpr=2&pid=1.7\n"
     ]
    },
    {
     "name": "stderr",
     "output_type": "stream",
     "text": [
      "Some characters could not be decoded, and were replaced with REPLACEMENT CHARACTER.\n"
     ]
    },
    {
     "name": "stdout",
     "output_type": "stream",
     "text": [
      "len_with_frac2 1.5047619047619047\n",
      "len_with_frac3 1.3352112676056338\n",
      "Finished***:   Spotted Whistling-Duck\n",
      "http://bing.com/images/search?q=Muscovy+Duck+(Domestic+type)\n",
      "https://tse3-mm.cn.bing.net/th/id/OIP-C.KXwmmKH2Dy8K1X4stHnyigHaHa?w=164&h=180&c=7&r=0&o=5&dpr=2&pid=1.7\n"
     ]
    },
    {
     "name": "stderr",
     "output_type": "stream",
     "text": [
      "Some characters could not be decoded, and were replaced with REPLACEMENT CHARACTER.\n",
      "Some characters could not be decoded, and were replaced with REPLACEMENT CHARACTER.\n"
     ]
    },
    {
     "name": "stdout",
     "output_type": "stream",
     "text": [
      "https://tse4-mm.cn.bing.net/th/id/OIP-C.4I2JC8Nhgpe45bgeUUBDmQHaE8?w=246&h=180&c=7&r=0&o=5&dpr=2&pid=1.7\n",
      "len_with_frac2 0.9111111111111111\n",
      "len_with_frac3 1.3670886075949367\n",
      "Finished***:   Muscovy Duck (Domestic type)\n",
      "http://bing.com/images/search?q=Knob-billed+Duck\n"
     ]
    },
    {
     "name": "stderr",
     "output_type": "stream",
     "text": [
      "Some characters could not be decoded, and were replaced with REPLACEMENT CHARACTER.\n"
     ]
    },
    {
     "name": "stdout",
     "output_type": "stream",
     "text": [
      "https://tse1-mm.cn.bing.net/th/id/OIP-C.7ruRCgTyz1qK8d3jBVjp3QHaGc?w=209&h=182&c=7&r=0&o=5&dpr=2&pid=1.7\n",
      "https://tse3-mm.cn.bing.net/th/id/OIP-C.B1GbXT-bT5hKzOEoVtqYXQHaFn?w=240&h=182&c=7&r=0&o=5&dpr=2&pid=1.7\n"
     ]
    },
    {
     "name": "stderr",
     "output_type": "stream",
     "text": [
      "Some characters could not be decoded, and were replaced with REPLACEMENT CHARACTER.\n"
     ]
    },
    {
     "name": "stdout",
     "output_type": "stream",
     "text": [
      "len_with_frac2 1.1483516483516483\n",
      "len_with_frac3 1.3203342618384402\n",
      "Finished***:   Knob-billed Duck\n",
      "http://bing.com/images/search?q=Freckled+Duck\n"
     ]
    },
    {
     "name": "stderr",
     "output_type": "stream",
     "text": [
      "Some characters could not be decoded, and were replaced with REPLACEMENT CHARACTER.\n"
     ]
    },
    {
     "name": "stdout",
     "output_type": "stream",
     "text": [
      "https://tse3-mm.cn.bing.net/th/id/OIP-C.qhg-lLkv_6febiC_J8FNTQHaFs?w=199&h=180&c=7&r=0&o=5&dpr=2&pid=1.7\n",
      "https://tse3-mm.cn.bing.net/th/id/OIP-C.lUcNqvsYuRbC6wjxeGhTBQHaEo?w=244&h=180&c=7&r=0&o=5&dpr=2&pid=1.7\n"
     ]
    },
    {
     "name": "stderr",
     "output_type": "stream",
     "text": [
      "Some characters could not be decoded, and were replaced with REPLACEMENT CHARACTER.\n"
     ]
    },
    {
     "name": "stdout",
     "output_type": "stream",
     "text": [
      "len_with_frac2 1.1055555555555556\n",
      "len_with_frac3 1.3581081081081081\n",
      "Finished***:   Freckled Duck\n",
      "http://bing.com/images/search?q=Swan+Goose+(Domestic+type)\n"
     ]
    },
    {
     "name": "stderr",
     "output_type": "stream",
     "text": [
      "Some characters could not be decoded, and were replaced with REPLACEMENT CHARACTER.\n"
     ]
    },
    {
     "name": "stdout",
     "output_type": "stream",
     "text": [
      "https://tse4-mm.cn.bing.net/th/id/OIP-C.vOeRS_yGCSJXjvdd_15nwQHaE8?w=265&h=180&c=7&r=0&o=5&dpr=2&pid=1.7\n",
      "https://tse2-mm.cn.bing.net/th/id/OIP-C.BL4MgqmbkEhVfs9vDG1OgQHaHa?w=177&h=180&c=7&r=0&o=5&dpr=2&pid=1.7\n"
     ]
    },
    {
     "name": "stderr",
     "output_type": "stream",
     "text": [
      "Some characters could not be decoded, and were replaced with REPLACEMENT CHARACTER.\n"
     ]
    },
    {
     "name": "stdout",
     "output_type": "stream",
     "text": [
      "len_with_frac2 1.4746835443037976\n",
      "len_with_frac3 0.9833333333333333\n",
      "Finished***:   Swan Goose (Domestic type)\n",
      "http://bing.com/images/search?q=Common+Pochard+x+Ferruginous+Duck+(hybrid)\n",
      "https://tse1-mm.cn.bing.net/th/id/OIP-C.MrU1F4_Sdw6pNxovj4qiIQHaE7?w=288&h=192&c=7&r=0&o=5&dpr=2&pid=1.7\n"
     ]
    },
    {
     "name": "stderr",
     "output_type": "stream",
     "text": [
      "Some characters could not be decoded, and were replaced with REPLACEMENT CHARACTER.\n"
     ]
    },
    {
     "name": "stdout",
     "output_type": "stream",
     "text": [
      "https://tse1-mm.cn.bing.net/th/id/OIP-C.KTyJuUdkF-Pap4u3MauyAQHaE7?w=287&h=192&c=7&r=0&o=5&dpr=2&pid=1.7\n"
     ]
    },
    {
     "name": "stderr",
     "output_type": "stream",
     "text": [
      "Some characters could not be decoded, and were replaced with REPLACEMENT CHARACTER.\n"
     ]
    },
    {
     "name": "stdout",
     "output_type": "stream",
     "text": [
      "len_with_frac2 1.5015873015873016\n",
      "len_with_frac3 1.4952380952380953\n",
      "Finished***:   Common Pochard x Ferruginous Duck (hybrid)\n",
      "http://bing.com/images/search?q=Mallard+x+Pacific+Black+Duck+(hybrid)\n",
      "https://tse2-mm.cn.bing.net/th/id/OIP-C.Q4JtQiepd0l6lZ9sPVvRrQHaHa?w=191&h=191&c=7&r=0&o=5&dpr=2&pid=1.7\n"
     ]
    },
    {
     "name": "stderr",
     "output_type": "stream",
     "text": [
      "Some characters could not be decoded, and were replaced with REPLACEMENT CHARACTER.\n",
      "Some characters could not be decoded, and were replaced with REPLACEMENT CHARACTER.\n"
     ]
    },
    {
     "name": "stdout",
     "output_type": "stream",
     "text": [
      "https://tse3-mm.cn.bing.net/th/id/OIP-C.l6rU88P_-mMqcOzROWQIRQHaJf?w=148&h=191&c=7&r=0&o=5&dpr=2&pid=1.7\n",
      "len_with_frac2 1.0\n",
      "len_with_frac3 0.774869109947644\n",
      "Finished***:   Mallard x Pacific Black Duck (hybrid)\n",
      "http://bing.com/images/search?q=Snow+Ross's+Goose\n",
      "https://tse4-mm.cn.bing.net/th/id/OIP-C.iFbnNjOdo0SEd5YBJ6FfNgHaEo?w=283&h=180&c=7&r=0&o=5&dpr=2&pid=1.7\n"
     ]
    },
    {
     "name": "stderr",
     "output_type": "stream",
     "text": [
      "Some characters could not be decoded, and were replaced with REPLACEMENT CHARACTER.\n",
      "Some characters could not be decoded, and were replaced with REPLACEMENT CHARACTER.\n"
     ]
    },
    {
     "name": "stdout",
     "output_type": "stream",
     "text": [
      "https://tse1-mm.cn.bing.net/th/id/OIP-C.X4Kv1eUkuwj0TLwOr5laeAHaE7?w=264&h=180&c=7&r=0&o=5&dpr=2&pid=1.7\n",
      "Location values cannot contain NaNs.\n",
      "killed.....:   Snow_or_Ross's Goose\n",
      "http://bing.com/images/search?q=Mallard+American+Black+Duck\n",
      "https://tse3-mm.cn.bing.net/th/id/OIP-C.6SM-6hu4Jv8rHDiGzit2EQHaEW?w=277&h=180&c=7&r=0&o=5&dpr=2&pid=1.7\n"
     ]
    },
    {
     "name": "stderr",
     "output_type": "stream",
     "text": [
      "Some characters could not be decoded, and were replaced with REPLACEMENT CHARACTER.\n"
     ]
    },
    {
     "name": "stdout",
     "output_type": "stream",
     "text": [
      "https://tse4-mm.cn.bing.net/th/id/OIP-C.AFe5ROUZuAbePm475TzuggHaFd?w=220&h=180&c=7&r=0&o=5&dpr=2&pid=1.7\n"
     ]
    },
    {
     "name": "stderr",
     "output_type": "stream",
     "text": [
      "Some characters could not be decoded, and were replaced with REPLACEMENT CHARACTER.\n"
     ]
    },
    {
     "name": "stdout",
     "output_type": "stream",
     "text": [
      "Location values cannot contain NaNs.\n",
      "killed.....:   Mallard_or_American Black Duck\n",
      "http://bing.com/images/search?q=Wandering+Whistling-Duck\n",
      "https://tse3-mm.cn.bing.net/th/id/OIP-C.JBS-1TpvJ3DjZ3J6xNYsuAHaFj?w=263&h=197&c=7&r=0&o=5&dpr=2&pid=1.7\n"
     ]
    },
    {
     "name": "stderr",
     "output_type": "stream",
     "text": [
      "Some characters could not be decoded, and were replaced with REPLACEMENT CHARACTER.\n",
      "Some characters could not be decoded, and were replaced with REPLACEMENT CHARACTER.\n"
     ]
    },
    {
     "name": "stdout",
     "output_type": "stream",
     "text": [
      "https://tse3-mm.cn.bing.net/th/id/OIP-C.Dy0-3oOBdgz2FQmUqKG6QgHaLC?w=132&h=197&c=7&r=0&o=5&dpr=2&pid=1.7\n",
      "len_with_frac2 1.3352112676056338\n",
      "len_with_frac3 0.6700507614213198\n",
      "Finished***:   Wandering Whistling-Duck\n",
      "http://bing.com/images/search?q=Andean+Teal\n",
      "https://tse4-mm.cn.bing.net/th/id/OIP-C.Qqk553eYBaFES5godhB3ywHaE8?w=306&h=204&c=7&r=0&o=5&dpr=2&pid=1.7\n"
     ]
    },
    {
     "name": "stderr",
     "output_type": "stream",
     "text": [
      "Some characters could not be decoded, and were replaced with REPLACEMENT CHARACTER.\n"
     ]
    },
    {
     "name": "stdout",
     "output_type": "stream",
     "text": [
      "https://tse2-mm.cn.bing.net/th/id/OIP-C.ETqDVDuajyWAtLtXpdB3OwHaFj?w=272&h=204&c=7&r=0&o=5&dpr=2&pid=1.7\n"
     ]
    },
    {
     "name": "stderr",
     "output_type": "stream",
     "text": [
      "Some characters could not be decoded, and were replaced with REPLACEMENT CHARACTER.\n"
     ]
    },
    {
     "name": "stdout",
     "output_type": "stream",
     "text": [
      "len_with_frac2 1.5\n",
      "len_with_frac3 1.3352112676056338\n",
      "Finished***:   Andean Teal\n",
      "http://bing.com/images/search?q=White-backed+Duck\n",
      "https://tse4-mm.cn.bing.net/th/id/OIP-C.55bguqr49w_rVSYaKnfZzAHaFg?w=210&h=180&c=7&r=0&o=5&dpr=2&pid=1.7\n"
     ]
    },
    {
     "name": "stderr",
     "output_type": "stream",
     "text": [
      "Some characters could not be decoded, and were replaced with REPLACEMENT CHARACTER.\n",
      "Some characters could not be decoded, and were replaced with REPLACEMENT CHARACTER.\n"
     ]
    },
    {
     "name": "stdout",
     "output_type": "stream",
     "text": [
      "https://tse1-mm.cn.bing.net/th/id/OIP-C.F3BKE5ieJB4_531HS_XAVgHaFE?w=229&h=180&c=7&r=0&o=5&dpr=2&pid=1.7\n",
      "len_with_frac2 1.1676136363636365\n",
      "len_with_frac3 1.2746913580246915\n",
      "Finished***:   White-backed Duck\n",
      "http://bing.com/images/search?q=Torrent+Duck\n",
      "https://tse2-mm.cn.bing.net/th/id/OIP-C.zlzAUhA5CYQO7ITsPTA5rwHaFr?w=264&h=202&c=7&r=0&o=5&dpr=2&pid=1.7\n"
     ]
    },
    {
     "name": "stderr",
     "output_type": "stream",
     "text": [
      "Some characters could not be decoded, and were replaced with REPLACEMENT CHARACTER.\n"
     ]
    },
    {
     "name": "stdout",
     "output_type": "stream",
     "text": [
      "https://tse1-mm.cn.bing.net/th/id/OIP-C.hUY490wF42lpmWAYJyCsggHaE7?w=304&h=202&c=7&r=0&o=5&dpr=2&pid=1.7\n"
     ]
    },
    {
     "name": "stderr",
     "output_type": "stream",
     "text": [
      "Some characters could not be decoded, and were replaced with REPLACEMENT CHARACTER.\n"
     ]
    },
    {
     "name": "stdout",
     "output_type": "stream",
     "text": [
      "len_with_frac2 1.3057851239669422\n",
      "len_with_frac3 1.5047619047619047\n",
      "Finished***:   Torrent Duck\n",
      "http://bing.com/images/search?q=Falcated+Duck\n"
     ]
    },
    {
     "name": "stderr",
     "output_type": "stream",
     "text": [
      "Some characters could not be decoded, and were replaced with REPLACEMENT CHARACTER.\n"
     ]
    },
    {
     "name": "stdout",
     "output_type": "stream",
     "text": [
      "https://tse2-mm.cn.bing.net/th/id/OIP-C.1KSrW9BH_t5koVUlSpPangHaE8?w=306&h=204&c=7&r=0&o=5&dpr=2&pid=1.7\n",
      "https://tse2-mm.cn.bing.net/th/id/OIP-C.snWgCgvpkAdLnCdXthXMBQHaFj?w=272&h=204&c=7&r=0&o=5&dpr=2&pid=1.7\n"
     ]
    },
    {
     "name": "stderr",
     "output_type": "stream",
     "text": [
      "Some characters could not be decoded, and were replaced with REPLACEMENT CHARACTER.\n"
     ]
    },
    {
     "name": "stdout",
     "output_type": "stream",
     "text": [
      "len_with_frac2 1.5\n",
      "len_with_frac3 1.3352112676056338\n",
      "Finished***:   Falcated Duck\n",
      "http://bing.com/images/search?q=White-headed+Steamer-Duck\n",
      "https://tse3-mm.cn.bing.net/th/id/OIP-C.wstR5XHVcZUwEUNRadQz2wHaFj?w=229&h=180&c=7&r=0&o=5&dpr=2&pid=1.7\n"
     ]
    },
    {
     "name": "stderr",
     "output_type": "stream",
     "text": [
      "Some characters could not be decoded, and were replaced with REPLACEMENT CHARACTER.\n"
     ]
    },
    {
     "name": "stdout",
     "output_type": "stream",
     "text": [
      "https://tse4-mm.cn.bing.net/th/id/OIP-C.Y6uIREfqXOiHJqssioiGuQHaFj?w=229&h=180&c=7&r=0&o=5&dpr=2&pid=1.7\n"
     ]
    },
    {
     "name": "stderr",
     "output_type": "stream",
     "text": [
      "Some characters could not be decoded, and were replaced with REPLACEMENT CHARACTER.\n"
     ]
    },
    {
     "name": "stdout",
     "output_type": "stream",
     "text": [
      "len_with_frac2 1.2732394366197184\n",
      "len_with_frac3 1.2732394366197184\n",
      "Finished***:   White-headed Steamer-Duck\n",
      "http://bing.com/images/search?q=Lake+Duck\n"
     ]
    },
    {
     "name": "stderr",
     "output_type": "stream",
     "text": [
      "Some characters could not be decoded, and were replaced with REPLACEMENT CHARACTER.\n"
     ]
    },
    {
     "name": "stdout",
     "output_type": "stream",
     "text": [
      "https://tse1-mm.cn.bing.net/th/id/OIP-C.VDpALfepGkn7D-XHuSMiZQHaFr?w=226&h=180&c=7&r=0&o=5&dpr=2&pid=1.7\n",
      "https://tse2-mm.cn.bing.net/th/id/OIP-C.UDdPqP6094j6Oy-O9zNoVwHaFh?w=234&h=180&c=7&r=0&o=5&dpr=2&pid=1.7\n"
     ]
    },
    {
     "name": "stderr",
     "output_type": "stream",
     "text": [
      "Some characters could not be decoded, and were replaced with REPLACEMENT CHARACTER.\n"
     ]
    },
    {
     "name": "stdout",
     "output_type": "stream",
     "text": [
      "len_with_frac2 1.2555555555555555\n",
      "len_with_frac3 1.3002832861189801\n",
      "Finished***:   Lake Duck\n",
      "http://bing.com/images/search?q=Common+Pochard+x+Tufted+Duck+(hybrid)\n",
      "https://tse1-mm.cn.bing.net/th/id/OIP-C.FDxCJ9ZkNwGrCc3n51EvNgHaHW?w=177&h=180&c=7&r=0&o=5&dpr=2&pid=1.7\n"
     ]
    },
    {
     "name": "stderr",
     "output_type": "stream",
     "text": [
      "Some characters could not be decoded, and were replaced with REPLACEMENT CHARACTER.\n",
      "Some characters could not be decoded, and were replaced with REPLACEMENT CHARACTER.\n"
     ]
    },
    {
     "name": "stdout",
     "output_type": "stream",
     "text": [
      "https://tse2-mm.cn.bing.net/th/id/OIP-C.kB9Hr3A1KlT1b_XrZxMQHAHaGT?w=205&h=180&c=7&r=0&o=5&dpr=2&pid=1.7\n",
      "len_with_frac2 0.9833333333333333\n",
      "len_with_frac3 1.1388888888888888\n",
      "Finished***:   Common Pochard x Tufted Duck (hybrid)\n",
      "http://bing.com/images/search?q=Radjah+Shelduck\n",
      "https://tse2-mm.cn.bing.net/th/id/OIP-C.uKVY4Ch-mx0GmU1xGZZm1gHaEK?w=261&h=180&c=7&r=0&o=5&dpr=2&pid=1.7\n"
     ]
    },
    {
     "name": "stderr",
     "output_type": "stream",
     "text": [
      "Some characters could not be decoded, and were replaced with REPLACEMENT CHARACTER.\n",
      "Some characters could not be decoded, and were replaced with REPLACEMENT CHARACTER.\n"
     ]
    },
    {
     "name": "stdout",
     "output_type": "stream",
     "text": [
      "https://tse3-mm.cn.bing.net/th/id/OIP-C.rQVUSJhg8yWlPWgaAuLX8QHaE8?w=220&h=180&c=7&r=0&o=5&dpr=2&pid=1.7\n",
      "len_with_frac2 1.4511278195488722\n",
      "len_with_frac3 1.2246835443037976\n",
      "Finished***:   Radjah Shelduck\n",
      "http://bing.com/images/search?q=Hawaiian+Duck\n"
     ]
    },
    {
     "name": "stderr",
     "output_type": "stream",
     "text": [
      "Some characters could not be decoded, and were replaced with REPLACEMENT CHARACTER.\n"
     ]
    },
    {
     "name": "stdout",
     "output_type": "stream",
     "text": [
      "https://tse1-mm.cn.bing.net/th/id/OIP-C.m3OdgBX4SvO6RstHLcRwkAHaFj?w=256&h=192&c=7&r=0&o=5&dpr=2&pid=1.7\n",
      "https://tse2-mm.cn.bing.net/th/id/OIP-C.ObwcLemXyX3oWW-tkHBnFwHaGb?w=222&h=192&c=7&r=0&o=5&dpr=2&pid=1.7\n"
     ]
    },
    {
     "name": "stderr",
     "output_type": "stream",
     "text": [
      "Some characters could not be decoded, and were replaced with REPLACEMENT CHARACTER.\n"
     ]
    },
    {
     "name": "stdout",
     "output_type": "stream",
     "text": [
      "len_with_frac2 1.3352112676056338\n",
      "len_with_frac3 1.15625\n",
      "Finished***:   Hawaiian Duck\n",
      "http://bing.com/images/search?q=African+Black+Duck\n",
      "https://tse2-mm.cn.bing.net/th/id/OIP-C.0ykvTMJgx-fxKF5CqsdC3gHaG2?w=146&h=144&c=7&r=0&o=5&dpr=2&pid=1.7\n"
     ]
    },
    {
     "name": "stderr",
     "output_type": "stream",
     "text": [
      "Some characters could not be decoded, and were replaced with REPLACEMENT CHARACTER.\n"
     ]
    },
    {
     "name": "stdout",
     "output_type": "stream",
     "text": [
      "https://tse4-mm.cn.bing.net/th/id/OIP-C.bsdqDYrF7ItYvbCNXFzZUwHaE8?w=255&h=180&c=7&r=0&o=5&dpr=2&pid=1.7\n"
     ]
    },
    {
     "name": "stderr",
     "output_type": "stream",
     "text": [
      "Some characters could not be decoded, and were replaced with REPLACEMENT CHARACTER.\n"
     ]
    },
    {
     "name": "stdout",
     "output_type": "stream",
     "text": [
      "len_with_frac2 1.0138888888888888\n",
      "len_with_frac3 1.4177215189873418\n",
      "Finished***:   African Black Duck\n",
      "http://bing.com/images/search?q=Blue+Duck\n"
     ]
    },
    {
     "name": "stderr",
     "output_type": "stream",
     "text": [
      "Some characters could not be decoded, and were replaced with REPLACEMENT CHARACTER.\n"
     ]
    },
    {
     "name": "stdout",
     "output_type": "stream",
     "text": [
      "https://tse2-mm.cn.bing.net/th/id/OIP-C.UBQWAppbg7wKQyiyQ8a11wHaE8?w=262&h=180&c=7&r=0&o=5&dpr=2&pid=1.7\n",
      "https://tse2-mm.cn.bing.net/th/id/OIP-C.jDuH7eUi-2zvw1K7wLXQ1AHaFj?w=232&h=180&c=7&r=0&o=5&dpr=2&pid=1.7\n"
     ]
    },
    {
     "name": "stderr",
     "output_type": "stream",
     "text": [
      "Some characters could not be decoded, and were replaced with REPLACEMENT CHARACTER.\n"
     ]
    },
    {
     "name": "stdout",
     "output_type": "stream",
     "text": [
      "len_with_frac2 1.4556962025316456\n",
      "len_with_frac3 1.2901408450704226\n",
      "Finished***:   Blue Duck\n",
      "http://bing.com/images/search?q=Indian+Eastern+Spot-billed+Duck\n",
      "https://tse3-mm.cn.bing.net/th/id/OIP-C.L-PswXIzS_iibtfGI_yiFQHaE8?w=302&h=201&c=7&r=0&o=5&dpr=2&pid=1.7\n"
     ]
    },
    {
     "name": "stderr",
     "output_type": "stream",
     "text": [
      "Some characters could not be decoded, and were replaced with REPLACEMENT CHARACTER.\n"
     ]
    },
    {
     "name": "stdout",
     "output_type": "stream",
     "text": [
      "https://tse4-mm.cn.bing.net/th/id/OIP-C.y5lNW73zoTErAF5oPC8QFwHaFA?w=298&h=201&c=7&r=0&o=5&dpr=2&pid=1.7\n"
     ]
    },
    {
     "name": "stderr",
     "output_type": "stream",
     "text": [
      "Some characters could not be decoded, and were replaced with REPLACEMENT CHARACTER.\n"
     ]
    },
    {
     "name": "stdout",
     "output_type": "stream",
     "text": [
      "Location values cannot contain NaNs.\n",
      "killed.....:   Indian_or_Eastern Spot-billed Duck\n",
      "http://bing.com/images/search?q=White-headed+Duck\n"
     ]
    },
    {
     "name": "stderr",
     "output_type": "stream",
     "text": [
      "Some characters could not be decoded, and were replaced with REPLACEMENT CHARACTER.\n"
     ]
    },
    {
     "name": "stdout",
     "output_type": "stream",
     "text": [
      "https://tse4-mm.cn.bing.net/th/id/OIP-C.pDabr64HDNS7H6hYPoNzNQHaFj?w=214&h=180&c=7&r=0&o=5&dpr=2&pid=1.7\n",
      "https://tse4-mm.cn.bing.net/th/id/OIP-C.4gA2h3c0AExw5sm_AREVVgHaE7?w=241&h=180&c=7&r=0&o=5&dpr=2&pid=1.7\n"
     ]
    },
    {
     "name": "stderr",
     "output_type": "stream",
     "text": [
      "Some characters could not be decoded, and were replaced with REPLACEMENT CHARACTER.\n"
     ]
    },
    {
     "name": "stdout",
     "output_type": "stream",
     "text": [
      "len_with_frac2 1.1915492957746479\n",
      "len_with_frac3 1.3396825396825396\n",
      "Finished***:   White-headed Duck\n",
      "http://bing.com/images/search?q=South+African+Shelduck\n",
      "https://tse4-mm.cn.bing.net/th/id/OIP-C.5GvlI-dcVJNMjIvYyUGlAAAAAA?w=134&h=180&c=7&r=0&o=5&dpr=2&pid=1.7\n"
     ]
    },
    {
     "name": "stderr",
     "output_type": "stream",
     "text": [
      "Some characters could not be decoded, and were replaced with REPLACEMENT CHARACTER.\n",
      "Some characters could not be decoded, and were replaced with REPLACEMENT CHARACTER.\n"
     ]
    },
    {
     "name": "stdout",
     "output_type": "stream",
     "text": [
      "https://tse4-mm.cn.bing.net/th/id/OIP-C.b7K8ylvwR-Y8f0-ZnNYWEQHaF3?w=223&h=180&c=7&r=0&o=5&dpr=2&pid=1.7\n",
      "len_with_frac2 0.7457627118644068\n",
      "len_with_frac3 1.238888888888889\n",
      "Finished***:   South African Shelduck\n",
      "http://bing.com/images/search?q=Mexican+Duck\n",
      "https://tse4-mm.cn.bing.net/th/id/OIP-C.hVzWBph3DOGwLIwEjq_O3QHaEH?w=322&h=180&c=7&r=0&o=5&dpr=2&pid=1.7\n"
     ]
    },
    {
     "name": "stderr",
     "output_type": "stream",
     "text": [
      "Some characters could not be decoded, and were replaced with REPLACEMENT CHARACTER.\n",
      "Some characters could not be decoded, and were replaced with REPLACEMENT CHARACTER.\n"
     ]
    },
    {
     "name": "stdout",
     "output_type": "stream",
     "text": [
      "https://tse4-mm.cn.bing.net/th/id/OIP-C.OD0D2VKPYkCOhCFbP_ynjAHaFj?w=238&h=180&c=7&r=0&o=5&dpr=2&pid=1.7\n",
      "len_with_frac2 1.790874524714829\n",
      "len_with_frac3 1.323943661971831\n",
      "Finished***:   Mexican Duck\n",
      "http://bing.com/images/search?q=Taiga+Tundra+Bean-Goose\n",
      "https://tse1-mm.cn.bing.net/th/id/OIP-C.3nt4k-vjwOPkYZSAOnmSIgAAAA?w=207&h=141&c=7&r=0&o=5&dpr=2&pid=1.7\n"
     ]
    },
    {
     "name": "stderr",
     "output_type": "stream",
     "text": [
      "Some characters could not be decoded, and were replaced with REPLACEMENT CHARACTER.\n"
     ]
    },
    {
     "name": "stdout",
     "output_type": "stream",
     "text": [
      "https://tse3-mm.cn.bing.net/th/id/OIP-C.-coSRj6sGI9uNzVxi5nYBwHaE7?w=266&h=180&c=7&r=0&o=5&dpr=2&pid=1.7\n"
     ]
    },
    {
     "name": "stderr",
     "output_type": "stream",
     "text": [
      "Some characters could not be decoded, and were replaced with REPLACEMENT CHARACTER.\n"
     ]
    },
    {
     "name": "stdout",
     "output_type": "stream",
     "text": [
      "Location values cannot contain NaNs.\n",
      "killed.....:   Taiga_or_Tundra Bean-Goose\n",
      "http://bing.com/images/search?q=Laysan+Duck\n"
     ]
    },
    {
     "name": "stderr",
     "output_type": "stream",
     "text": [
      "Some characters could not be decoded, and were replaced with REPLACEMENT CHARACTER.\n"
     ]
    },
    {
     "name": "stdout",
     "output_type": "stream",
     "text": [
      "https://tse3-mm.cn.bing.net/th/id/OIP-C.kYSiJfQaOgzFzMWHU34veAHaFk?w=272&h=204&c=7&r=0&o=5&dpr=2&pid=1.7\n",
      "https://tse1-mm.cn.bing.net/th/id/OIP-C.U0t6yX_yCbSDfBtVD_egkAHaE7?w=306&h=204&c=7&r=0&o=5&dpr=2&pid=1.7\n"
     ]
    },
    {
     "name": "stderr",
     "output_type": "stream",
     "text": [
      "Some characters could not be decoded, and were replaced with REPLACEMENT CHARACTER.\n"
     ]
    },
    {
     "name": "stdout",
     "output_type": "stream",
     "text": [
      "len_with_frac2 1.3314606741573034\n",
      "len_with_frac3 1.5015873015873016\n",
      "Finished***:   Laysan Duck\n",
      "http://bing.com/images/search?q=Meller's+Duck\n"
     ]
    },
    {
     "name": "stderr",
     "output_type": "stream",
     "text": [
      "Some characters could not be decoded, and were replaced with REPLACEMENT CHARACTER.\n"
     ]
    },
    {
     "name": "stdout",
     "output_type": "stream",
     "text": [
      "https://tse2-mm.cn.bing.net/th/id/OIP-C.0Z39BmiXxFpmwD6PoJViNgHaE8?w=298&h=199&c=7&r=0&o=5&dpr=2&pid=1.7\n",
      "https://tse2-mm.cn.bing.net/th/id/OIP-C.aJUegLt026ZrW546jd4_8AHaE-?w=297&h=199&c=7&r=0&o=5&dpr=2&pid=1.7\n"
     ]
    },
    {
     "name": "stderr",
     "output_type": "stream",
     "text": [
      "Some characters could not be decoded, and were replaced with REPLACEMENT CHARACTER.\n"
     ]
    },
    {
     "name": "stdout",
     "output_type": "stream",
     "text": [
      "len_with_frac2 1.5\n",
      "len_with_frac3 1.490566037735849\n",
      "Finished***:   Meller's Duck\n",
      "http://bing.com/images/search?q=Flying+Steamer-Duck\n",
      "https://tse3-mm.cn.bing.net/th/id/OIP-C.sX2S9rFvQguoi6uBoKCSKwHaFj?w=210&h=180&c=7&r=0&o=5&dpr=2&pid=1.7\n"
     ]
    },
    {
     "name": "stderr",
     "output_type": "stream",
     "text": [
      "Some characters could not be decoded, and were replaced with REPLACEMENT CHARACTER.\n",
      "Some characters could not be decoded, and were replaced with REPLACEMENT CHARACTER.\n"
     ]
    },
    {
     "name": "stdout",
     "output_type": "stream",
     "text": [
      "https://tse4-mm.cn.bing.net/th/id/OIP-C.1AqjQzUbiOJxME3cXUXR_wHaFj?w=210&h=180&c=7&r=0&o=5&dpr=2&pid=1.7\n",
      "len_with_frac2 1.1690140845070423\n",
      "len_with_frac3 1.1690140845070423\n",
      "Finished***:   Flying Steamer-Duck\n",
      "http://bing.com/images/search?q=Andean+Duck\n"
     ]
    },
    {
     "name": "stderr",
     "output_type": "stream",
     "text": [
      "Some characters could not be decoded, and were replaced with REPLACEMENT CHARACTER.\n"
     ]
    },
    {
     "name": "stdout",
     "output_type": "stream",
     "text": [
      "https://tse2-mm.cn.bing.net/th/id/OIP-C.O9LFn2P2pZxyb0a-H9Jt5gHaFj?w=264&h=198&c=7&r=0&o=5&dpr=2&pid=1.7\n",
      "https://tse3-mm.cn.bing.net/th/id/OIP-C.YnW8fBLq8HLA4nsCcho3PgHaE8?w=298&h=198&c=7&r=0&o=5&dpr=2&pid=1.7\n"
     ]
    },
    {
     "name": "stderr",
     "output_type": "stream",
     "text": [
      "Some characters could not be decoded, and were replaced with REPLACEMENT CHARACTER.\n"
     ]
    },
    {
     "name": "stdout",
     "output_type": "stream",
     "text": [
      "len_with_frac2 1.3352112676056338\n",
      "len_with_frac3 1.5047619047619047\n",
      "Finished***:   Andean Duck\n",
      "http://bing.com/images/search?q=Maccoa+Duck\n",
      "https://tse1-mm.cn.bing.net/th/id/OIP-C.XCX1OabyBCyqFkUU1wNpFQHaEn?w=316&h=197&c=7&r=0&o=5&dpr=2&pid=1.7\n"
     ]
    },
    {
     "name": "stderr",
     "output_type": "stream",
     "text": [
      "Some characters could not be decoded, and were replaced with REPLACEMENT CHARACTER.\n"
     ]
    },
    {
     "name": "stdout",
     "output_type": "stream",
     "text": [
      "https://tse2-mm.cn.bing.net/th/id/OIP-C.4oMQfVogP1b4nx11A4VhNAHaE7?w=299&h=197&c=7&r=0&o=5&dpr=2&pid=1.7\n"
     ]
    },
    {
     "name": "stderr",
     "output_type": "stream",
     "text": [
      "Some characters could not be decoded, and were replaced with REPLACEMENT CHARACTER.\n"
     ]
    },
    {
     "name": "stdout",
     "output_type": "stream",
     "text": [
      "len_with_frac2 1.6067796610169491\n",
      "len_with_frac3 1.5175718849840256\n",
      "Finished***:   Maccoa Duck\n",
      "http://bing.com/images/search?q=Domestic+goose+sp.+(Domestic+type)+x+Canada+Goose+(hybrid)\n"
     ]
    },
    {
     "name": "stderr",
     "output_type": "stream",
     "text": [
      "Some characters could not be decoded, and were replaced with REPLACEMENT CHARACTER.\n"
     ]
    },
    {
     "name": "stdout",
     "output_type": "stream",
     "text": [
      "https://tse4-mm.cn.bing.net/th/id/OIP-C.KzeZzuDMC8ABlNn69UNN8QHaEt?w=296&h=188&c=7&r=0&o=5&dpr=2&pid=1.7\n",
      "https://tse4-mm.cn.bing.net/th/id/OIP-C.GRAJqL4gF-kVjLhTXsYxMAHaEs?w=296&h=188&c=7&r=0&o=5&dpr=2&pid=1.7\n"
     ]
    },
    {
     "name": "stderr",
     "output_type": "stream",
     "text": [
      "Some characters could not be decoded, and were replaced with REPLACEMENT CHARACTER.\n"
     ]
    },
    {
     "name": "stdout",
     "output_type": "stream",
     "text": [
      "len_with_frac2 1.5747508305647842\n",
      "len_with_frac3 1.5766666666666667\n",
      "Finished***:   Domestic goose sp. (Domestic type) x Canada Goose (hybrid)\n",
      "http://bing.com/images/search?q=White-winged+Duck\n",
      "https://tse3-mm.cn.bing.net/th/id/OIP-C.dnerpUUBvEmKyZHj3C6VdgHaE6?w=285&h=189&c=7&r=0&o=5&dpr=2&pid=1.7\n"
     ]
    },
    {
     "name": "stderr",
     "output_type": "stream",
     "text": [
      "Some characters could not be decoded, and were replaced with REPLACEMENT CHARACTER.\n",
      "Some characters could not be decoded, and were replaced with REPLACEMENT CHARACTER.\n"
     ]
    },
    {
     "name": "stdout",
     "output_type": "stream",
     "text": [
      "https://tse1-mm.cn.bing.net/th/id/OIP-C.AdCHhig6vM_lYP9iyZPfvwHaE7?w=285&h=189&c=7&r=0&o=5&dpr=2&pid=1.7\n",
      "len_with_frac2 1.5095541401273886\n",
      "len_with_frac3 1.507936507936508\n",
      "Finished***:   White-winged Duck\n",
      "http://bing.com/images/search?q=Mallard+x+Northern+Pintail+(hybrid)\n",
      "https://tse4-mm.cn.bing.net/th/id/OIP-C.m7xPlHBBFEAXElArmsHPGQHaFj?w=223&h=180&c=7&r=0&o=5&dpr=2&pid=1.7\n"
     ]
    },
    {
     "name": "stderr",
     "output_type": "stream",
     "text": [
      "Some characters could not be decoded, and were replaced with REPLACEMENT CHARACTER.\n"
     ]
    },
    {
     "name": "stdout",
     "output_type": "stream",
     "text": [
      "https://tse4-mm.cn.bing.net/th/id/OIP-C.GI5Jf8Ef0TxLYRjlRqpw0gHaE7?w=250&h=180&c=7&r=0&o=5&dpr=2&pid=1.7\n"
     ]
    },
    {
     "name": "stderr",
     "output_type": "stream",
     "text": [
      "Some characters could not be decoded, and were replaced with REPLACEMENT CHARACTER.\n"
     ]
    },
    {
     "name": "stdout",
     "output_type": "stream",
     "text": [
      "len_with_frac2 1.2394366197183098\n",
      "len_with_frac3 1.3904761904761904\n",
      "Finished***:   Mallard x Northern Pintail (hybrid)\n",
      "http://bing.com/images/search?q=Swan+Goose\n"
     ]
    },
    {
     "name": "stderr",
     "output_type": "stream",
     "text": [
      "Some characters could not be decoded, and were replaced with REPLACEMENT CHARACTER.\n"
     ]
    },
    {
     "name": "stdout",
     "output_type": "stream",
     "text": [
      "https://tse3-mm.cn.bing.net/th/id/OIP-C.Kkxd_PrOq4QfV6j4deedLgHaFJ?w=231&h=180&c=7&r=0&o=5&dpr=2&pid=1.7\n",
      "https://tse3-mm.cn.bing.net/th/id/OIP-C.REM1KxOOKQMDtbx9zfAdJQHaHA?w=170&h=180&c=7&r=0&o=5&dpr=2&pid=1.7\n"
     ]
    },
    {
     "name": "stderr",
     "output_type": "stream",
     "text": [
      "Some characters could not be decoded, and were replaced with REPLACEMENT CHARACTER.\n"
     ]
    },
    {
     "name": "stdout",
     "output_type": "stream",
     "text": [
      "len_with_frac2 1.2857142857142858\n",
      "len_with_frac3 0.9444444444444444\n",
      "Finished***:   Swan Goose\n",
      "http://bing.com/images/search?q=Tufted+Duck+x+scaup+sp.+(hybrid)\n",
      "'NoneType' object has no attribute 'shape'\n",
      "killed.....:   Tufted Duck x scaup sp. (hybrid)\n"
     ]
    },
    {
     "name": "stderr",
     "output_type": "stream",
     "text": [
      "[ WARN:0@2367.378] global /Users/xperience/actions-runner/_work/opencv-python/opencv-python/opencv/modules/imgcodecs/src/loadsave.cpp (239) findDecoder imread_('./All_species/Tufted_Duck_x_scaup_sp._(hybrid)_1.jpg'): can't open/read file: check file path/integrity\n"
     ]
    },
    {
     "name": "stdout",
     "output_type": "stream",
     "text": [
      "http://bing.com/images/search?q=Anser+sp.\n"
     ]
    },
    {
     "name": "stderr",
     "output_type": "stream",
     "text": [
      "Some characters could not be decoded, and were replaced with REPLACEMENT CHARACTER.\n"
     ]
    },
    {
     "name": "stdout",
     "output_type": "stream",
     "text": [
      "https://tse2-mm.cn.bing.net/th/id/OIP-C.S-b6d-OFgR1t9n6nfyVhnQHaHa?w=142&h=180&c=7&r=0&o=5&dpr=2&pid=1.7\n",
      "https://tse2-mm.cn.bing.net/th/id/OIP-C.5XN1cY72FoFF4oWpjPOCXwHaHa?w=142&h=180&c=7&r=0&o=5&dpr=2&pid=1.7\n"
     ]
    },
    {
     "name": "stderr",
     "output_type": "stream",
     "text": [
      "Some characters could not be decoded, and were replaced with REPLACEMENT CHARACTER.\n"
     ]
    },
    {
     "name": "stdout",
     "output_type": "stream",
     "text": [
      "len_with_frac2 0.7888888888888889\n",
      "len_with_frac3 0.7888888888888889\n",
      "Finished***:   Anser sp.\n",
      "http://bing.com/images/search?q=Ring-necked+Duck+x+Greater+Scaup+(hybrid)\n"
     ]
    },
    {
     "name": "stderr",
     "output_type": "stream",
     "text": [
      "Some characters could not be decoded, and were replaced with REPLACEMENT CHARACTER.\n"
     ]
    },
    {
     "name": "stdout",
     "output_type": "stream",
     "text": [
      "https://tse2-mm.cn.bing.net/th/id/OIP-C.MKA7Er2urIzVDQoV3joskwHaFr?w=229&h=180&c=7&r=0&o=5&dpr=2&pid=1.7\n",
      "https://tse3-mm.cn.bing.net/th/id/OIP-C.TgV4XqF1_2CUt11Jjx5BxwHaD3?w=337&h=180&c=7&r=0&o=5&dpr=2&pid=1.7\n"
     ]
    },
    {
     "name": "stderr",
     "output_type": "stream",
     "text": [
      "Some characters could not be decoded, and were replaced with REPLACEMENT CHARACTER.\n"
     ]
    },
    {
     "name": "stdout",
     "output_type": "stream",
     "text": [
      "Location values cannot contain NaNs.\n",
      "killed.....:   Ring-necked Duck x Greater Scaup (hybrid)\n",
      "http://bing.com/images/search?q=Mallard+x+Mexican+Duck+(hybrid)\n",
      "https://tse2-mm.cn.bing.net/th/id/OIP-C.T9p0VjErOmG6A-9v6Vo6WwHaEJ?w=258&h=180&c=7&r=0&o=5&dpr=2&pid=1.7\n"
     ]
    },
    {
     "name": "stderr",
     "output_type": "stream",
     "text": [
      "Some characters could not be decoded, and were replaced with REPLACEMENT CHARACTER.\n"
     ]
    },
    {
     "name": "stdout",
     "output_type": "stream",
     "text": [
      "https://tse2-mm.cn.bing.net/th/id/OIP-C.GgNjEbWV4Rbo-RKdUO6reAHaFI?w=209&h=180&c=7&r=0&o=5&dpr=2&pid=1.7\n"
     ]
    },
    {
     "name": "stderr",
     "output_type": "stream",
     "text": [
      "Some characters could not be decoded, and were replaced with REPLACEMENT CHARACTER.\n"
     ]
    },
    {
     "name": "stdout",
     "output_type": "stream",
     "text": [
      "len_with_frac2 1.4339622641509433\n",
      "len_with_frac3 1.1615853658536586\n",
      "Finished***:   Mallard x Mexican Duck (hybrid)\n",
      "http://bing.com/images/search?q=Mallard+x+Hawaiian+Duck+(hybrid)\n"
     ]
    },
    {
     "name": "stderr",
     "output_type": "stream",
     "text": [
      "Some characters could not be decoded, and were replaced with REPLACEMENT CHARACTER.\n"
     ]
    },
    {
     "name": "stdout",
     "output_type": "stream",
     "text": [
      "https://tse2-mm.cn.bing.net/th/id/OIP-C.3LasdYVK3STo3FWfY6NWnAHaFq?w=234&h=180&c=7&r=0&o=5&dpr=2&pid=1.7\n",
      "https://tse4-mm.cn.bing.net/th/id/OIP-C.FZhMxBECpHIwXM6PMoVjpQHaE8?w=268&h=180&c=7&r=0&o=5&dpr=2&pid=1.7\n"
     ]
    },
    {
     "name": "stderr",
     "output_type": "stream",
     "text": [
      "Some characters could not be decoded, and were replaced with REPLACEMENT CHARACTER.\n"
     ]
    },
    {
     "name": "stdout",
     "output_type": "stream",
     "text": [
      "len_with_frac2 1.3\n",
      "len_with_frac3 1.490506329113924\n",
      "Finished***:   Mallard x Hawaiian Duck (hybrid)\n",
      "http://bing.com/images/search?q=Lesser+White-fronted+Goose\n",
      "https://tse2-mm.cn.bing.net/th/id/OIP-C.vWH5_ahf9o4Oa11XJFLcowHaGx?w=188&h=180&c=7&r=0&o=5&dpr=2&pid=1.7\n"
     ]
    },
    {
     "name": "stderr",
     "output_type": "stream",
     "text": [
      "Some characters could not be decoded, and were replaced with REPLACEMENT CHARACTER.\n",
      "Some characters could not be decoded, and were replaced with REPLACEMENT CHARACTER.\n"
     ]
    },
    {
     "name": "stdout",
     "output_type": "stream",
     "text": [
      "https://tse2-mm.cn.bing.net/th/id/OIP-C.Z5j9KfUEC8xYhRrCiFv3oAHaFj?w=229&h=180&c=7&r=0&o=5&dpr=2&pid=1.7\n",
      "len_with_frac2 1.0444444444444445\n",
      "len_with_frac3 1.2732394366197184\n",
      "Finished***:   Lesser White-fronted Goose\n",
      "http://bing.com/images/search?q=American+Black+Mottled+Duck\n"
     ]
    },
    {
     "name": "stderr",
     "output_type": "stream",
     "text": [
      "Some characters could not be decoded, and were replaced with REPLACEMENT CHARACTER.\n"
     ]
    },
    {
     "name": "stdout",
     "output_type": "stream",
     "text": [
      "https://tse4-mm.cn.bing.net/th/id/OIP-C.K0lsX3CA0dX2mbIHlOuAhAHaE8?w=289&h=193&c=7&r=0&o=5&dpr=2&pid=1.7\n",
      "https://tse2-mm.cn.bing.net/th/id/OIP-C.80rHbiFAwdJvNe5djSf8lgHaE8?w=289&h=193&c=7&r=0&o=5&dpr=2&pid=1.7\n"
     ]
    },
    {
     "name": "stderr",
     "output_type": "stream",
     "text": [
      "Some characters could not be decoded, and were replaced with REPLACEMENT CHARACTER.\n"
     ]
    },
    {
     "name": "stdout",
     "output_type": "stream",
     "text": [
      "Location values cannot contain NaNs.\n",
      "killed.....:   American Black_or_Mottled Duck\n",
      "http://bing.com/images/search?q=Falkland+Steamer-Duck\n",
      "https://tse3-mm.cn.bing.net/th/id/OIP-C.7TSx1RzqYIti-H2-erqVZwHaJQ?w=141&h=180&c=7&r=0&o=5&dpr=2&pid=1.7\n"
     ]
    },
    {
     "name": "stderr",
     "output_type": "stream",
     "text": [
      "Some characters could not be decoded, and were replaced with REPLACEMENT CHARACTER.\n",
      "Some characters could not be decoded, and were replaced with REPLACEMENT CHARACTER.\n"
     ]
    },
    {
     "name": "stdout",
     "output_type": "stream",
     "text": [
      "https://tse1-mm.cn.bing.net/th/id/OIP-C.pfCP1sudhSbvcf4c6MRVOwHaG2?w=190&h=180&c=7&r=0&o=5&dpr=2&pid=1.7\n",
      "len_with_frac2 0.7833333333333333\n",
      "len_with_frac3 1.0555555555555556\n",
      "Finished***:   Falkland Steamer-Duck\n",
      "http://bing.com/images/search?q=Comb+Duck\n"
     ]
    },
    {
     "name": "stderr",
     "output_type": "stream",
     "text": [
      "Some characters could not be decoded, and were replaced with REPLACEMENT CHARACTER.\n"
     ]
    },
    {
     "name": "stdout",
     "output_type": "stream",
     "text": [
      "https://tse2-mm.cn.bing.net/th/id/OIP-C.pG89ktzLatfMbpNEEJF9pgHaIL?w=159&h=180&c=7&r=0&o=5&dpr=2&pid=1.7\n",
      "https://tse2-mm.cn.bing.net/th/id/OIP-C.r2SEBSdBKL-c__gFtf7rdwHaE8?w=263&h=180&c=7&r=0&o=5&dpr=2&pid=1.7\n"
     ]
    },
    {
     "name": "stderr",
     "output_type": "stream",
     "text": [
      "Some characters could not be decoded, and were replaced with REPLACEMENT CHARACTER.\n"
     ]
    },
    {
     "name": "stdout",
     "output_type": "stream",
     "text": [
      "len_with_frac2 0.8833333333333333\n",
      "len_with_frac3 1.4620253164556962\n",
      "Finished***:   Comb Duck\n",
      "http://bing.com/images/search?q=West+Indian+Whistling-Duck\n",
      "https://tse3-mm.cn.bing.net/th/id/OIP-C.xV2GHUPfVJX5kee_ZI1bDwHaIt?w=167&h=197&c=7&r=0&o=5&dpr=2&pid=1.7\n"
     ]
    },
    {
     "name": "stderr",
     "output_type": "stream",
     "text": [
      "Some characters could not be decoded, and were replaced with REPLACEMENT CHARACTER.\n",
      "Some characters could not be decoded, and were replaced with REPLACEMENT CHARACTER.\n"
     ]
    },
    {
     "name": "stdout",
     "output_type": "stream",
     "text": [
      "https://tse2-mm.cn.bing.net/th/id/OIP-C.s285EnmjTOBQWPyVd3yCdwHaFR?w=278&h=197&c=7&r=0&o=5&dpr=2&pid=1.7\n",
      "len_with_frac2 0.8477157360406091\n",
      "len_with_frac3 1.4107142857142858\n",
      "Finished***:   West Indian Whistling-Duck\n",
      "http://bing.com/images/search?q=Sunda+Teal\n",
      "https://tse4-mm.cn.bing.net/th/id/OIP-C.PM626Zl4vzFOOYH-ErU2AwHaEp?w=261&h=180&c=7&r=0&o=5&dpr=2&pid=1.7\n"
     ]
    },
    {
     "name": "stderr",
     "output_type": "stream",
     "text": [
      "Some characters could not be decoded, and were replaced with REPLACEMENT CHARACTER.\n",
      "Some characters could not be decoded, and were replaced with REPLACEMENT CHARACTER.\n"
     ]
    },
    {
     "name": "stdout",
     "output_type": "stream",
     "text": [
      "https://tse2-mm.cn.bing.net/th/id/OIP-C.D4vBZr3Evocu3TSJ8mPJbwHaGf?w=187&h=180&c=7&r=0&o=5&dpr=2&pid=1.7\n",
      "len_with_frac2 1.4511784511784511\n",
      "len_with_frac3 1.038888888888889\n",
      "Finished***:   Sunda Teal\n",
      "http://bing.com/images/search?q=Flightless+Steamer-Duck\n",
      "https://tse2-mm.cn.bing.net/th/id/OIP-C.8ev5rJ88Jx7dyNIAHr8ODAHaE-?w=251&h=180&c=7&r=0&o=5&dpr=2&pid=1.7\n"
     ]
    },
    {
     "name": "stderr",
     "output_type": "stream",
     "text": [
      "Some characters could not be decoded, and were replaced with REPLACEMENT CHARACTER.\n",
      "Some characters could not be decoded, and were replaced with REPLACEMENT CHARACTER.\n"
     ]
    },
    {
     "name": "stdout",
     "output_type": "stream",
     "text": [
      "https://tse2-mm.cn.bing.net/th/id/OIP-C.dRGhtXvzgkNmgJF9faBOnAHaFi?w=225&h=180&c=7&r=0&o=5&dpr=2&pid=1.7\n",
      "len_with_frac2 1.3962264150943395\n",
      "len_with_frac3 1.2514124293785311\n",
      "Finished***:   Flightless Steamer-Duck\n",
      "http://bing.com/images/search?q=Brown+Teal\n"
     ]
    },
    {
     "name": "stderr",
     "output_type": "stream",
     "text": [
      "Some characters could not be decoded, and were replaced with REPLACEMENT CHARACTER.\n"
     ]
    },
    {
     "name": "stdout",
     "output_type": "stream",
     "text": [
      "https://tse3-mm.cn.bing.net/th/id/OIP-C.AR_-IbyH8EqSWBeIKkHSqwHaF7?w=197&h=180&c=7&r=0&o=5&dpr=2&pid=1.7\n",
      "https://tse4-mm.cn.bing.net/th/id/OIP-C.g3wsr3MhbxddRbz3j2J6BAHaFP?w=223&h=180&c=7&r=0&o=5&dpr=2&pid=1.7\n"
     ]
    },
    {
     "name": "stderr",
     "output_type": "stream",
     "text": [
      "Some characters could not be decoded, and were replaced with REPLACEMENT CHARACTER.\n"
     ]
    },
    {
     "name": "stdout",
     "output_type": "stream",
     "text": [
      "len_with_frac2 1.0944444444444446\n",
      "len_with_frac3 1.2417910447761193\n",
      "Finished***:   Brown Teal\n",
      "http://bing.com/images/search?q=Muscovy+Duck+x+Mallard+(hybrid)\n"
     ]
    },
    {
     "name": "stderr",
     "output_type": "stream",
     "text": [
      "Some characters could not be decoded, and were replaced with REPLACEMENT CHARACTER.\n"
     ]
    },
    {
     "name": "stdout",
     "output_type": "stream",
     "text": [
      "https://tse1-mm.cn.bing.net/th/id/OIP-C.KUXZYi74JVfWKpYyZdZPDwHaHa?w=178&h=180&c=7&r=0&o=5&dpr=2&pid=1.7\n",
      "https://tse4-mm.cn.bing.net/th/id/OIP-C.--IOyZb89i5Sxr4j93o5swHaFy?w=228&h=180&c=7&r=0&o=5&dpr=2&pid=1.7\n"
     ]
    },
    {
     "name": "stderr",
     "output_type": "stream",
     "text": [
      "Some characters could not be decoded, and were replaced with REPLACEMENT CHARACTER.\n"
     ]
    },
    {
     "name": "stdout",
     "output_type": "stream",
     "text": [
      "len_with_frac2 0.9888888888888889\n",
      "len_with_frac3 1.2666666666666666\n",
      "Finished***:   Muscovy Duck x Mallard (hybrid)\n",
      "http://bing.com/images/search?q=Hartlaub's+Duck\n"
     ]
    },
    {
     "name": "stderr",
     "output_type": "stream",
     "text": [
      "Some characters could not be decoded, and were replaced with REPLACEMENT CHARACTER.\n"
     ]
    },
    {
     "name": "stdout",
     "output_type": "stream",
     "text": [
      "https://tse2-mm.cn.bing.net/th/id/OIP-C.aTscDEn1xnSLihjmFTP2eAHaFn?w=202&h=180&c=7&r=0&o=5&dpr=2&pid=1.7\n",
      "https://tse2-mm.cn.bing.net/th/id/OIP-C.yP9OAqRH6HsVlsdYNmjEFAHaE8?w=230&h=180&c=7&r=0&o=5&dpr=2&pid=1.7\n"
     ]
    },
    {
     "name": "stderr",
     "output_type": "stream",
     "text": [
      "Some characters could not be decoded, and were replaced with REPLACEMENT CHARACTER.\n"
     ]
    },
    {
     "name": "stdout",
     "output_type": "stream",
     "text": [
      "len_with_frac2 1.1225626740947074\n",
      "len_with_frac3 1.2784810126582278\n",
      "Finished***:   Hartlaub's Duck\n",
      "http://bing.com/images/search?q=Anas+sp.\n"
     ]
    },
    {
     "name": "stderr",
     "output_type": "stream",
     "text": [
      "Some characters could not be decoded, and were replaced with REPLACEMENT CHARACTER.\n"
     ]
    },
    {
     "name": "stdout",
     "output_type": "stream",
     "text": [
      "https://tse3-mm.cn.bing.net/th/id/OIP-C.R_5_jVI6h1i7iiUEc1ZUfAHaFd?w=234&h=180&c=7&r=0&o=5&dpr=2&pid=1.7\n",
      "https://tse2-mm.cn.bing.net/th/id/OIP-C.Nv6kOPEL60im88yOoBfRxwHaFM?w=246&h=180&c=7&r=0&o=5&dpr=2&pid=1.7\n"
     ]
    },
    {
     "name": "stderr",
     "output_type": "stream",
     "text": [
      "Some characters could not be decoded, and were replaced with REPLACEMENT CHARACTER.\n"
     ]
    },
    {
     "name": "stdout",
     "output_type": "stream",
     "text": [
      "len_with_frac2 1.3008595988538683\n",
      "len_with_frac3 1.3674698795180722\n",
      "Finished***:   Anas sp.\n",
      "http://bing.com/images/search?q=Snow+x+Ross's+Goose+(hybrid)\n",
      "https://tse4-mm.cn.bing.net/th/id/OIP-C.BhVp9EJGhRWYG3CqQbb3vgHaE7?w=291&h=194&c=7&r=0&o=5&dpr=2&pid=1.7\n"
     ]
    },
    {
     "name": "stderr",
     "output_type": "stream",
     "text": [
      "Some characters could not be decoded, and were replaced with REPLACEMENT CHARACTER.\n",
      "Some characters could not be decoded, and were replaced with REPLACEMENT CHARACTER.\n"
     ]
    },
    {
     "name": "stdout",
     "output_type": "stream",
     "text": [
      "https://tse3-mm.cn.bing.net/th/id/OIP-C._CueEF4r5cgtF9jOV9rrkwHaFL?w=277&h=194&c=7&r=0&o=5&dpr=2&pid=1.7\n",
      "len_with_frac2 1.5015873015873016\n",
      "len_with_frac3 1.4290030211480362\n",
      "Finished***:   Snow x Ross's Goose (hybrid)\n",
      "http://bing.com/images/search?q=Graylag+Goose+(Domestic+type)+x+Canada+Goose+(hybrid)\n",
      "https://tse2-mm.cn.bing.net/th/id/OIP-C.n-7JBu_aq97gaB4_yxV-1AHaE8?w=289&h=193&c=7&r=0&o=5&dpr=2&pid=1.7\n"
     ]
    },
    {
     "name": "stderr",
     "output_type": "stream",
     "text": [
      "Some characters could not be decoded, and were replaced with REPLACEMENT CHARACTER.\n"
     ]
    },
    {
     "name": "stdout",
     "output_type": "stream",
     "text": [
      "https://tse4-mm.cn.bing.net/th/id/OIP-C.inwwxPamyTM-EXmI12-g7gHaE7?w=290&h=193&c=7&r=0&o=5&dpr=2&pid=1.7\n"
     ]
    },
    {
     "name": "stderr",
     "output_type": "stream",
     "text": [
      "Some characters could not be decoded, and were replaced with REPLACEMENT CHARACTER.\n"
     ]
    },
    {
     "name": "stdout",
     "output_type": "stream",
     "text": [
      "len_with_frac2 1.5\n",
      "len_with_frac3 1.5047619047619047\n",
      "Finished***:   Graylag Goose (Domestic type) x Canada Goose (hybrid)\n",
      "http://bing.com/images/search?q=Graylag+x+Swan+Goose+(Domestic+type)+(hybrid)\n",
      "https://tse2-mm.cn.bing.net/th/id/OIP-C.n-7JBu_aq97gaB4_yxV-1AHaE8?w=247&h=180&c=7&r=0&o=5&dpr=2&pid=1.7\n"
     ]
    },
    {
     "name": "stderr",
     "output_type": "stream",
     "text": [
      "Some characters could not be decoded, and were replaced with REPLACEMENT CHARACTER.\n"
     ]
    },
    {
     "name": "stdout",
     "output_type": "stream",
     "text": [
      "https://tse4-mm.cn.bing.net/th/id/OIP-C.99evkOpqCUkhNATJwwGiQQHaFH?w=239&h=180&c=7&r=0&o=5&dpr=2&pid=1.7\n"
     ]
    },
    {
     "name": "stderr",
     "output_type": "stream",
     "text": [
      "Some characters could not be decoded, and were replaced with REPLACEMENT CHARACTER.\n"
     ]
    },
    {
     "name": "stdout",
     "output_type": "stream",
     "text": [
      "len_with_frac2 1.3734177215189873\n",
      "len_with_frac3 1.3302752293577982\n",
      "Finished***:   Graylag x Swan Goose (Domestic type) (hybrid)\n",
      "http://bing.com/images/search?q=Spectacled+Duck\n",
      "https://tse4-mm.cn.bing.net/th/id/OIP-C.S45UTwxTPMpFE49197gMlQHaE8?w=306&h=204&c=7&r=0&o=5&dpr=2&pid=1.7\n"
     ]
    },
    {
     "name": "stderr",
     "output_type": "stream",
     "text": [
      "Some characters could not be decoded, and were replaced with REPLACEMENT CHARACTER.\n",
      "Some characters could not be decoded, and were replaced with REPLACEMENT CHARACTER.\n"
     ]
    },
    {
     "name": "stdout",
     "output_type": "stream",
     "text": [
      "https://tse2-mm.cn.bing.net/th/id/OIP-C.M7dYJayWy0wiQGWzbCqmagHaE8?w=306&h=204&c=7&r=0&o=5&dpr=2&pid=1.7\n",
      "len_with_frac2 1.5\n",
      "len_with_frac3 1.5\n",
      "Finished***:   Spectacled Duck\n",
      "http://bing.com/images/search?q=Mallard+x+Mottled+Duck+(hybrid)\n"
     ]
    },
    {
     "name": "stderr",
     "output_type": "stream",
     "text": [
      "Some characters could not be decoded, and were replaced with REPLACEMENT CHARACTER.\n"
     ]
    },
    {
     "name": "stdout",
     "output_type": "stream",
     "text": [
      "https://tse2-mm.cn.bing.net/th/id/OIP-C.AT6e-FfvkHnWa2w9r_nuFgHaFq?w=217&h=180&c=7&r=0&o=5&dpr=2&pid=1.7\n"
     ]
    },
    {
     "name": "stderr",
     "output_type": "stream",
     "text": [
      "Some characters could not be decoded, and were replaced with REPLACEMENT CHARACTER.\n"
     ]
    },
    {
     "name": "stdout",
     "output_type": "stream",
     "text": [
      "https://tse1-mm.cn.bing.net/th/id/OIP-C.pje_QPCay27UNKzdwcPPmgHaE7?w=251&h=180&c=7&r=0&o=5&dpr=2&pid=1.7\n",
      "len_with_frac2 1.2055555555555555\n",
      "len_with_frac3 1.3968253968253967\n",
      "Finished***:   Mallard x Mottled Duck (hybrid)\n",
      "http://bing.com/images/search?q=Graylag+x+Canada+Goose+(hybrid)\n",
      "https://tse4-mm.cn.bing.net/th/id/OIP-C.fIgvSh0Ci52D45qc28_XjAHaE8?w=298&h=199&c=7&r=0&o=5&dpr=2&pid=1.7\n"
     ]
    },
    {
     "name": "stderr",
     "output_type": "stream",
     "text": [
      "Some characters could not be decoded, and were replaced with REPLACEMENT CHARACTER.\n"
     ]
    },
    {
     "name": "stdout",
     "output_type": "stream",
     "text": [
      "https://tse2-mm.cn.bing.net/th/id/OIP-C.n-7JBu_aq97gaB4_yxV-1AHaE8?w=298&h=199&c=7&r=0&o=5&dpr=2&pid=1.7\n"
     ]
    },
    {
     "name": "stderr",
     "output_type": "stream",
     "text": [
      "Some characters could not be decoded, and were replaced with REPLACEMENT CHARACTER.\n"
     ]
    },
    {
     "name": "stdout",
     "output_type": "stream",
     "text": [
      "len_with_frac2 1.5\n",
      "len_with_frac3 1.5\n",
      "Finished***:   Graylag x Canada Goose (hybrid)\n",
      "http://bing.com/images/search?q=Wood+Duck+x+Mallard+(hybrid)\n",
      "https://tse2-mm.cn.bing.net/th/id/OIP-C.m2WuKTSXHZM6RLZBS8vzugHaE8?w=258&h=180&c=7&r=0&o=5&dpr=2&pid=1.7\n"
     ]
    },
    {
     "name": "stderr",
     "output_type": "stream",
     "text": [
      "Some characters could not be decoded, and were replaced with REPLACEMENT CHARACTER.\n",
      "Some characters could not be decoded, and were replaced with REPLACEMENT CHARACTER.\n"
     ]
    },
    {
     "name": "stdout",
     "output_type": "stream",
     "text": [
      "https://tse1-mm.cn.bing.net/th/id/OIP-C.6f3K9vsau6KBWoJedREBXQHaFe?w=233&h=180&c=7&r=0&o=5&dpr=2&pid=1.7\n",
      "Location values cannot contain NaNs.\n",
      "killed.....:   Wood Duck x Mallard (hybrid)\n",
      "http://bing.com/images/search?q=Mallard+Hawaiian+Duck\n"
     ]
    },
    {
     "name": "stderr",
     "output_type": "stream",
     "text": [
      "Some characters could not be decoded, and were replaced with REPLACEMENT CHARACTER.\n"
     ]
    },
    {
     "name": "stdout",
     "output_type": "stream",
     "text": [
      "https://tse4-mm.cn.bing.net/th/id/OIP-C.Piy4SSYLpZiHQrCicHfwTgHaE7?w=298&h=198&c=7&r=0&o=5&dpr=2&pid=1.7\n",
      "https://tse1-mm.cn.bing.net/th/id/OIP-C.UKhTvt5t0hM3Hsbv5z0BqwHaE7?w=299&h=198&c=7&r=0&o=5&dpr=2&pid=1.7\n"
     ]
    },
    {
     "name": "stderr",
     "output_type": "stream",
     "text": [
      "Some characters could not be decoded, and were replaced with REPLACEMENT CHARACTER.\n"
     ]
    },
    {
     "name": "stdout",
     "output_type": "stream",
     "text": [
      "Location values cannot contain NaNs.\n",
      "killed.....:   Mallard_or_Hawaiian Duck\n",
      "http://bing.com/images/search?q=Greater+White-fronted+x+Canada+Goose+(hybrid)\n",
      "https://tse3-mm.cn.bing.net/th/id/OIP-C.R_wEgatgDhAbzY8k-XpRdQHaHh?w=192&h=194&c=7&r=0&o=5&dpr=2&pid=1.7\n"
     ]
    },
    {
     "name": "stderr",
     "output_type": "stream",
     "text": [
      "Some characters could not be decoded, and were replaced with REPLACEMENT CHARACTER.\n"
     ]
    },
    {
     "name": "stdout",
     "output_type": "stream",
     "text": [
      "https://tse3-mm.cn.bing.net/th/id/OIP-C.cm9JQixupI3Rk8sez7c6XwHaE8?w=264&h=191&c=7&r=0&o=5&dpr=2&pid=1.7\n"
     ]
    },
    {
     "name": "stderr",
     "output_type": "stream",
     "text": [
      "Some characters could not be decoded, and were replaced with REPLACEMENT CHARACTER.\n"
     ]
    },
    {
     "name": "stdout",
     "output_type": "stream",
     "text": [
      "len_with_frac2 0.9896907216494846\n",
      "len_with_frac3 1.3829113924050633\n",
      "Finished***:   Greater White-fronted x Canada Goose (hybrid)\n",
      "http://bing.com/images/search?q=Pink-headed+Duck\n",
      "https://tse4-mm.cn.bing.net/th/id/OIP-C.fofi7dlaZYrVozCxUYgRTwHaE6?w=244&h=180&c=7&r=0&o=5&dpr=2&pid=1.7\n"
     ]
    },
    {
     "name": "stderr",
     "output_type": "stream",
     "text": [
      "Some characters could not be decoded, and were replaced with REPLACEMENT CHARACTER.\n",
      "Some characters could not be decoded, and were replaced with REPLACEMENT CHARACTER.\n"
     ]
    },
    {
     "name": "stdout",
     "output_type": "stream",
     "text": [
      "https://tse3-mm.cn.bing.net/th/id/OIP-C.uDltOb5EEEBQ5gkIw78i7gHaGX?w=189&h=180&c=7&r=0&o=5&dpr=2&pid=1.7\n",
      "Location values cannot contain NaNs.\n",
      "killed.....:   Pink-headed Duck\n",
      "http://bing.com/images/search?q=Auckland+Islands+Teal\n",
      "https://tse1-mm.cn.bing.net/th/id/OIP-C.3NR-87YLQBK-zVcHPkX6jQHaE8?w=249&h=180&c=7&r=0&o=5&dpr=2&pid=1.7\n"
     ]
    },
    {
     "name": "stderr",
     "output_type": "stream",
     "text": [
      "Some characters could not be decoded, and were replaced with REPLACEMENT CHARACTER.\n",
      "Some characters could not be decoded, and were replaced with REPLACEMENT CHARACTER.\n"
     ]
    },
    {
     "name": "stdout",
     "output_type": "stream",
     "text": [
      "https://tse4-mm.cn.bing.net/th/id/OIP-C.Vl7kWDTj8zz_t4L5_Xd-PAHaFh?w=223&h=180&c=7&r=0&o=5&dpr=2&pid=1.7\n",
      "len_with_frac2 1.3860759493670887\n",
      "len_with_frac3 1.2407932011331444\n",
      "Finished***:   Auckland Islands Teal\n",
      "http://bing.com/images/search?q=whistling-duck+sp.\n"
     ]
    },
    {
     "name": "stderr",
     "output_type": "stream",
     "text": [
      "Some characters could not be decoded, and were replaced with REPLACEMENT CHARACTER.\n"
     ]
    },
    {
     "name": "stdout",
     "output_type": "stream",
     "text": [
      "https://tse2-mm.cn.bing.net/th/id/OIP-C.4PWl0zvpCoQFdKRnIdepOAHaDo?w=327&h=172&c=7&r=0&o=5&dpr=2&pid=1.7\n",
      "https://tse4-mm.cn.bing.net/th/id/OIP-C.NRCAHyK9io0JEPdrARgU_QHaE8?w=251&h=180&c=7&r=0&o=5&dpr=2&pid=1.7\n"
     ]
    },
    {
     "name": "stderr",
     "output_type": "stream",
     "text": [
      "Some characters could not be decoded, and were replaced with REPLACEMENT CHARACTER.\n"
     ]
    },
    {
     "name": "stdout",
     "output_type": "stream",
     "text": [
      "len_with_frac2 1.9051724137931034\n",
      "len_with_frac3 1.3955696202531647\n",
      "Finished***:   whistling-duck sp.\n",
      "http://bing.com/images/search?q=Snow+x+Greater+White-fronted+Goose+(hybrid)\n",
      "Location values cannot contain NaNs.\n",
      "killed.....:   Snow x Greater White-fronted Goose (hybrid)\n",
      "http://bing.com/images/search?q=Bernier's+Teal\n",
      "https://tse1-mm.cn.bing.net/th/id/OIP-C.0T2CZ48umvz8j0T7qoGb9QHaEk?w=259&h=180&c=7&r=0&o=5&dpr=2&pid=1.7\n"
     ]
    },
    {
     "name": "stderr",
     "output_type": "stream",
     "text": [
      "Some characters could not be decoded, and were replaced with REPLACEMENT CHARACTER.\n"
     ]
    },
    {
     "name": "stdout",
     "output_type": "stream",
     "text": [
      "https://tse1-mm.cn.bing.net/th/id/OIP-C.UKC1OJbslSf4OQSEx-6toQHaF7?w=200&h=180&c=7&r=0&o=5&dpr=2&pid=1.7\n"
     ]
    },
    {
     "name": "stderr",
     "output_type": "stream",
     "text": [
      "Some characters could not be decoded, and were replaced with REPLACEMENT CHARACTER.\n"
     ]
    },
    {
     "name": "stdout",
     "output_type": "stream",
     "text": [
      "len_with_frac2 1.4417808219178083\n",
      "len_with_frac3 1.1111111111111112\n",
      "Finished***:   Bernier's Teal\n",
      "http://bing.com/images/search?q=Mexican+Mottled+Duck\n",
      "https://tse3-mm.cn.bing.net/th/id/OIP-C.jZRptzJkMCpt9dMZBG_5TwHaFt?w=259&h=199&c=7&r=0&o=5&dpr=2&pid=1.7\n"
     ]
    },
    {
     "name": "stderr",
     "output_type": "stream",
     "text": [
      "Some characters could not be decoded, and were replaced with REPLACEMENT CHARACTER.\n"
     ]
    },
    {
     "name": "stdout",
     "output_type": "stream",
     "text": [
      "https://tse2-mm.cn.bing.net/th/id/OIP-C.XIQc_wu0goFTMsVHVJMUhgHaE8?w=299&h=199&c=7&r=0&o=5&dpr=2&pid=1.7\n"
     ]
    },
    {
     "name": "stderr",
     "output_type": "stream",
     "text": [
      "Some characters could not be decoded, and were replaced with REPLACEMENT CHARACTER.\n"
     ]
    },
    {
     "name": "stdout",
     "output_type": "stream",
     "text": [
      "Location values cannot contain NaNs.\n",
      "killed.....:   Mexican_or_Mottled Duck\n",
      "http://bing.com/images/search?q=Ferruginous+x+Tufted+Duck+(hybrid)\n",
      "https://tse4-mm.cn.bing.net/th/id/OIP-C.v60GhP0A2RV0wW2ffaQC2wHaD8?w=281&h=180&c=7&r=0&o=5&dpr=2&pid=1.7\n"
     ]
    },
    {
     "name": "stderr",
     "output_type": "stream",
     "text": [
      "Some characters could not be decoded, and were replaced with REPLACEMENT CHARACTER.\n",
      "Some characters could not be decoded, and were replaced with REPLACEMENT CHARACTER.\n"
     ]
    },
    {
     "name": "stdout",
     "output_type": "stream",
     "text": [
      "https://tse3-mm.cn.bing.net/th/id/OIP-C.j67zceIzhhq1xgtzaqm4bgHaFL?w=213&h=180&c=7&r=0&o=5&dpr=2&pid=1.7\n",
      "Location values cannot contain NaNs.\n",
      "killed.....:   Ferruginous x Tufted Duck (hybrid)\n",
      "http://bing.com/images/search?q=Andaman+Teal\n",
      "https://tse1-mm.cn.bing.net/th/id/OIP-C.KbvzTr2y-BqdwYdGZABwhAHaEz?w=293&h=190&c=7&r=0&o=5&dpr=2&pid=1.7\n"
     ]
    },
    {
     "name": "stderr",
     "output_type": "stream",
     "text": [
      "Some characters could not be decoded, and were replaced with REPLACEMENT CHARACTER.\n"
     ]
    },
    {
     "name": "stdout",
     "output_type": "stream",
     "text": [
      "https://tse2-mm.cn.bing.net/th/id/OIP-C.QueNt-MXCuixrlZYey6PjQHaEY?w=323&h=190&c=7&r=0&o=5&dpr=2&pid=1.7\n"
     ]
    },
    {
     "name": "stderr",
     "output_type": "stream",
     "text": [
      "Some characters could not be decoded, and were replaced with REPLACEMENT CHARACTER.\n"
     ]
    },
    {
     "name": "stdout",
     "output_type": "stream",
     "text": [
      "len_with_frac2 1.5439739413680782\n",
      "len_with_frac3 1.6989247311827957\n",
      "Finished***:   Andaman Teal\n",
      "http://bing.com/images/search?q=Ring-necked+x+Tufted+Duck+(hybrid)\n"
     ]
    },
    {
     "name": "stderr",
     "output_type": "stream",
     "text": [
      "Some characters could not be decoded, and were replaced with REPLACEMENT CHARACTER.\n"
     ]
    },
    {
     "name": "stdout",
     "output_type": "stream",
     "text": [
      "https://tse3-mm.cn.bing.net/th/id/OIP-C.wf9bg2Ns1jJA1LxHx_lWtwHaE6?w=234&h=180&c=7&r=0&o=5&dpr=2&pid=1.7\n",
      "https://tse2-mm.cn.bing.net/th/id/OIP-C.XwLP1JUAxkFhKUfKKKA1BwHaFI?w=224&h=180&c=7&r=0&o=5&dpr=2&pid=1.7\n"
     ]
    },
    {
     "name": "stderr",
     "output_type": "stream",
     "text": [
      "Some characters could not be decoded, and were replaced with REPLACEMENT CHARACTER.\n"
     ]
    },
    {
     "name": "stdout",
     "output_type": "stream",
     "text": [
      "len_with_frac2 1.302547770700637\n",
      "len_with_frac3 1.2469512195121952\n",
      "Finished***:   Ring-necked x Tufted Duck (hybrid)\n",
      "http://bing.com/images/search?q=Tufted+Duck+x+Greater+Scaup+(hybrid)\n",
      "https://tse2-mm.cn.bing.net/th/id/OIP-C.HJwrd_O-sZ7OgysBu87gigHaEv?w=272&h=180&c=7&r=0&o=5&dpr=2&pid=1.7\n"
     ]
    },
    {
     "name": "stderr",
     "output_type": "stream",
     "text": [
      "Some characters could not be decoded, and were replaced with REPLACEMENT CHARACTER.\n",
      "Some characters could not be decoded, and were replaced with REPLACEMENT CHARACTER.\n"
     ]
    },
    {
     "name": "stdout",
     "output_type": "stream",
     "text": [
      "https://tse1-mm.cn.bing.net/th/id/OIP-C.38lORMthDCqB8rCPmhCc0wHaD_?w=324&h=180&c=7&r=0&o=5&dpr=2&pid=1.7\n",
      "len_with_frac2 1.5115511551155116\n",
      "len_with_frac3 1.8\n",
      "Finished***:   Tufted Duck x Greater Scaup (hybrid)\n",
      "http://bing.com/images/search?q=Snow+x+Canada+Goose+(hybrid)\n"
     ]
    },
    {
     "name": "stderr",
     "output_type": "stream",
     "text": [
      "Some characters could not be decoded, and were replaced with REPLACEMENT CHARACTER.\n"
     ]
    },
    {
     "name": "stdout",
     "output_type": "stream",
     "text": [
      "https://tse2-mm.cn.bing.net/th/id/OIP-C.jVNw5GHPWuJIP_YQVml6tAHaFS?w=288&h=206&c=7&r=0&o=5&dpr=2&pid=1.7\n",
      "https://tse3-mm.cn.bing.net/th/id/OIP-C.AqlCNTWXcSrXzJDdsKSvxQHaFS?w=288&h=206&c=7&r=0&o=5&dpr=2&pid=1.7\n"
     ]
    },
    {
     "name": "stderr",
     "output_type": "stream",
     "text": [
      "Some characters could not be decoded, and were replaced with REPLACEMENT CHARACTER.\n"
     ]
    },
    {
     "name": "stdout",
     "output_type": "stream",
     "text": [
      "len_with_frac2 1.3994082840236686\n",
      "len_with_frac3 1.3994082840236686\n",
      "Finished***:   Snow x Canada Goose (hybrid)\n",
      "http://bing.com/images/search?q=Andean+Lake+Duck\n",
      "https://tse2-mm.cn.bing.net/th/id/OIP-C.PYuWrQh0I1tZmn34Hw2IxAHaFc?w=227&h=180&c=7&r=0&o=5&dpr=2&pid=1.7\n"
     ]
    },
    {
     "name": "stderr",
     "output_type": "stream",
     "text": [
      "Some characters could not be decoded, and were replaced with REPLACEMENT CHARACTER.\n",
      "Some characters could not be decoded, and were replaced with REPLACEMENT CHARACTER.\n"
     ]
    },
    {
     "name": "stdout",
     "output_type": "stream",
     "text": [
      "https://tse2-mm.cn.bing.net/th/id/OIP-C.0mlHnILHm1KPVy3Irc26EgHaFc?w=227&h=180&c=7&r=0&o=5&dpr=2&pid=1.7\n",
      "Location values cannot contain NaNs.\n",
      "killed.....:   Andean_or_Lake Duck\n",
      "http://bing.com/images/search?q=Northern+Pintail+x+Green-winged+Teal+(hybrid)\n",
      "https://tse3-mm.cn.bing.net/th/id/OIP-C.FYl0rDWWdAWHXUbkJwpZjAHaE7?w=259&h=180&c=7&r=0&o=5&dpr=2&pid=1.7\n"
     ]
    },
    {
     "name": "stderr",
     "output_type": "stream",
     "text": [
      "Some characters could not be decoded, and were replaced with REPLACEMENT CHARACTER.\n"
     ]
    },
    {
     "name": "stdout",
     "output_type": "stream",
     "text": [
      "https://tse3-mm.cn.bing.net/th/id/OIP-C.9n5nGrFjog9AjTCvl7Em-gHaE7?w=258&h=180&c=7&r=0&o=5&dpr=2&pid=1.7\n"
     ]
    },
    {
     "name": "stderr",
     "output_type": "stream",
     "text": [
      "Some characters could not be decoded, and were replaced with REPLACEMENT CHARACTER.\n"
     ]
    },
    {
     "name": "stdout",
     "output_type": "stream",
     "text": [
      "Location values cannot contain NaNs.\n",
      "killed.....:   Northern Pintail x Green-winged Teal (hybrid)\n",
      "http://bing.com/images/search?q=Greater+Lesser+White-fronted+Goose\n"
     ]
    },
    {
     "name": "stderr",
     "output_type": "stream",
     "text": [
      "Some characters could not be decoded, and were replaced with REPLACEMENT CHARACTER.\n"
     ]
    },
    {
     "name": "stdout",
     "output_type": "stream",
     "text": [
      "https://tse1-mm.cn.bing.net/th/id/OIP-C.e_8H6w0vEM9gLyfYRi0s5QHaFF?w=245&h=180&c=7&r=0&o=5&dpr=2&pid=1.7\n",
      "https://tse2-mm.cn.bing.net/th/id/OIP-C.vWH5_ahf9o4Oa11XJFLcowHaGx?w=184&h=180&c=7&r=0&o=5&dpr=2&pid=1.7\n"
     ]
    },
    {
     "name": "stderr",
     "output_type": "stream",
     "text": [
      "Some characters could not be decoded, and were replaced with REPLACEMENT CHARACTER.\n"
     ]
    },
    {
     "name": "stdout",
     "output_type": "stream",
     "text": [
      "Location values cannot contain NaNs.\n",
      "killed.....:   Greater_or_Lesser White-fronted Goose\n",
      "http://bing.com/images/search?q=steamer-duck+sp.\n",
      "https://tse3-mm.cn.bing.net/th/id/OIP-C.bczvxdGGuD7NR7IaM-pHPAHaFj?w=256&h=192&c=7&r=0&o=5&dpr=2&pid=1.7\n"
     ]
    },
    {
     "name": "stderr",
     "output_type": "stream",
     "text": [
      "Some characters could not be decoded, and were replaced with REPLACEMENT CHARACTER.\n"
     ]
    },
    {
     "name": "stdout",
     "output_type": "stream",
     "text": [
      "https://tse1-mm.cn.bing.net/th/id/OIP-C.UrnCcrpQswuDkAhOW-qcvgHaFj?w=256&h=192&c=7&r=0&o=5&dpr=2&pid=1.7\n"
     ]
    },
    {
     "name": "stderr",
     "output_type": "stream",
     "text": [
      "Some characters could not be decoded, and were replaced with REPLACEMENT CHARACTER.\n"
     ]
    },
    {
     "name": "stdout",
     "output_type": "stream",
     "text": [
      "len_with_frac2 1.3352112676056338\n",
      "len_with_frac3 1.3352112676056338\n",
      "Finished***:   steamer-duck sp.\n",
      "http://bing.com/images/search?q=Swan+Goose+(Domestic+type)+x+Canada+Goose+(hybrid)\n",
      "'NoneType' object has no attribute 'shape'\n",
      "killed.....:   Swan Goose (Domestic type) x Canada Goose (hybrid)\n"
     ]
    },
    {
     "name": "stderr",
     "output_type": "stream",
     "text": [
      "[ WARN:0@3129.256] global /Users/xperience/actions-runner/_work/opencv-python/opencv-python/opencv/modules/imgcodecs/src/loadsave.cpp (239) findDecoder imread_('./All_species/Swan_Goose_(Domestic_type)_x_Canada_Goose_(hybrid)_1.jpg'): can't open/read file: check file path/integrity\n"
     ]
    },
    {
     "name": "stdout",
     "output_type": "stream",
     "text": [
      "http://bing.com/images/search?q=Snow+x+Cackling+Goose+(hybrid)\n",
      "https://tse3-mm.cn.bing.net/th/id/OIP-C.h0nxekhyIien9ShvPS1xRgHaEw?w=307&h=197&c=7&r=0&o=5&dpr=2&pid=1.7\n"
     ]
    },
    {
     "name": "stderr",
     "output_type": "stream",
     "text": [
      "Some characters could not be decoded, and were replaced with REPLACEMENT CHARACTER.\n",
      "Some characters could not be decoded, and were replaced with REPLACEMENT CHARACTER.\n"
     ]
    },
    {
     "name": "stdout",
     "output_type": "stream",
     "text": [
      "https://tse3-mm.cn.bing.net/th/id/OIP-C.c2HdtbCP_4dPix95UO6sPAHaFq?w=258&h=197&c=7&r=0&o=5&dpr=2&pid=1.7\n",
      "Location values cannot contain NaNs.\n",
      "killed.....:   Snow x Cackling Goose (hybrid)\n",
      "http://bing.com/images/search?q=Graylag+x+Barnacle+Goose+(hybrid)\n",
      "Location values cannot contain NaNs.\n",
      "killed.....:   Graylag x Barnacle Goose (hybrid)\n",
      "http://bing.com/images/search?q=Yellow-billed+Duck+x+Mallard+(hybrid)\n",
      "https://tse4-mm.cn.bing.net/th/id/OIP-C.OQmn2Dpg63ElQJhp_7KSiQHaFc?w=268&h=197&c=7&r=0&o=5&dpr=2&pid=1.7\n"
     ]
    },
    {
     "name": "stderr",
     "output_type": "stream",
     "text": [
      "Some characters could not be decoded, and were replaced with REPLACEMENT CHARACTER.\n"
     ]
    },
    {
     "name": "stdout",
     "output_type": "stream",
     "text": [
      "https://tse2-mm.cn.bing.net/th/id/OIP-C.WM4riYMMWXKrVEFI5_NLrwHaIt?w=167&h=197&c=7&r=0&o=5&dpr=2&pid=1.7\n"
     ]
    },
    {
     "name": "stderr",
     "output_type": "stream",
     "text": [
      "Some characters could not be decoded, and were replaced with REPLACEMENT CHARACTER.\n"
     ]
    },
    {
     "name": "stdout",
     "output_type": "stream",
     "text": [
      "len_with_frac2 1.3620689655172413\n",
      "len_with_frac3 0.8477157360406091\n",
      "Finished***:   Yellow-billed Duck x Mallard (hybrid)\n",
      "http://bing.com/images/search?q=Labrador+Duck\n"
     ]
    },
    {
     "name": "stderr",
     "output_type": "stream",
     "text": [
      "Some characters could not be decoded, and were replaced with REPLACEMENT CHARACTER.\n"
     ]
    },
    {
     "name": "stdout",
     "output_type": "stream",
     "text": [
      "https://tse1-mm.cn.bing.net/th/id/OIP-C.u2m0s8fhN2Ke77PTcTbAIwHaFV?w=272&h=196&c=7&r=0&o=5&dpr=2&pid=1.7\n",
      "https://tse2-mm.cn.bing.net/th/id/OIP-C.o29hBR50-c4PJ2Y5mUj1fQHaE6?w=295&h=196&c=7&r=0&o=5&dpr=2&pid=1.7\n"
     ]
    },
    {
     "name": "stderr",
     "output_type": "stream",
     "text": [
      "Some characters could not be decoded, and were replaced with REPLACEMENT CHARACTER.\n"
     ]
    },
    {
     "name": "stdout",
     "output_type": "stream",
     "text": [
      "Location values cannot contain NaNs.\n",
      "killed.....:   Labrador Duck\n",
      "http://bing.com/images/search?q=Redhead+x+Ring-necked+Duck+(hybrid)\n",
      "https://tse2-mm.cn.bing.net/th/id/OIP-C.vJwx7vB-HOt6TYsImNy6IgHaDi?w=315&h=167&c=7&r=0&o=5&dpr=2&pid=1.7\n"
     ]
    },
    {
     "name": "stderr",
     "output_type": "stream",
     "text": [
      "Some characters could not be decoded, and were replaced with REPLACEMENT CHARACTER.\n",
      "Some characters could not be decoded, and were replaced with REPLACEMENT CHARACTER.\n"
     ]
    },
    {
     "name": "stdout",
     "output_type": "stream",
     "text": [
      "https://tse1-mm.cn.bing.net/th/id/OIP-C.wjNiquqz0VwKqYPN7s6RIAHaEE?w=296&h=180&c=7&r=0&o=5&dpr=2&pid=1.7\n",
      "Location values cannot contain NaNs.\n",
      "killed.....:   Redhead x Ring-necked Duck (hybrid)\n",
      "http://bing.com/images/search?q=Crested+Shelduck\n"
     ]
    },
    {
     "name": "stderr",
     "output_type": "stream",
     "text": [
      "Some characters could not be decoded, and were replaced with REPLACEMENT CHARACTER.\n"
     ]
    },
    {
     "name": "stdout",
     "output_type": "stream",
     "text": [
      "https://tse2-mm.cn.bing.net/th/id/OIP-C.9jSs9EnilAHNXCB1Z_EsXQAAAA?w=118&h=173&c=7&r=0&o=5&dpr=2&pid=1.7\n",
      "https://tse1-mm.cn.bing.net/th/id/OIP-C.JyPi7AvV-uH57_DFdS9YagHaFS?w=231&h=180&c=7&r=0&o=5&dpr=2&pid=1.7\n"
     ]
    },
    {
     "name": "stderr",
     "output_type": "stream",
     "text": [
      "Some characters could not be decoded, and were replaced with REPLACEMENT CHARACTER.\n"
     ]
    },
    {
     "name": "stdout",
     "output_type": "stream",
     "text": [
      "Location values cannot contain NaNs.\n",
      "killed.....:   Crested Shelduck\n",
      "http://bing.com/images/search?q=Eaton's+Pintail\n",
      "https://tse1-mm.cn.bing.net/th/id/OIP-C.LqJkyNadIXNZFJDmC4B2JwHaFg?w=228&h=180&c=7&r=0&o=5&dpr=2&pid=1.7\n"
     ]
    },
    {
     "name": "stderr",
     "output_type": "stream",
     "text": [
      "Some characters could not be decoded, and were replaced with REPLACEMENT CHARACTER.\n",
      "Some characters could not be decoded, and were replaced with REPLACEMENT CHARACTER.\n"
     ]
    },
    {
     "name": "stdout",
     "output_type": "stream",
     "text": [
      "https://tse1-mm.cn.bing.net/th/id/OIP-C.4fSKR27HaGmOenAZanOR6AAAAA?w=223&h=139&c=7&r=0&o=5&dpr=2&pid=1.7\n",
      "len_with_frac2 1.2670454545454546\n",
      "len_with_frac3 1.6091370558375635\n",
      "Finished***:   Eaton's Pintail\n",
      "http://bing.com/images/search?q=Andean+Yellow-billed+Teal\n",
      "https://tse3-mm.cn.bing.net/th/id/OIP-C.HA3vDUHsXNQdXxYYCaxsSwHaF7?w=246&h=197&c=7&r=0&o=5&dpr=2&pid=1.7\n"
     ]
    },
    {
     "name": "stderr",
     "output_type": "stream",
     "text": [
      "Some characters could not be decoded, and were replaced with REPLACEMENT CHARACTER.\n"
     ]
    },
    {
     "name": "stdout",
     "output_type": "stream",
     "text": [
      "https://tse4-mm.cn.bing.net/th/id/OIP-C.qalOTzcsFYKRtkRY6ipGugHaGf?w=226&h=197&c=7&r=0&o=5&dpr=2&pid=1.7\n"
     ]
    },
    {
     "name": "stderr",
     "output_type": "stream",
     "text": [
      "Some characters could not be decoded, and were replaced with REPLACEMENT CHARACTER.\n"
     ]
    },
    {
     "name": "stdout",
     "output_type": "stream",
     "text": [
      "Location values cannot contain NaNs.\n",
      "killed.....:   Andean_or_Yellow-billed Teal\n",
      "http://bing.com/images/search?q=Ruddy+x+White-headed+Duck+(hybrid)\n"
     ]
    },
    {
     "name": "stderr",
     "output_type": "stream",
     "text": [
      "Some characters could not be decoded, and were replaced with REPLACEMENT CHARACTER.\n"
     ]
    },
    {
     "name": "stdout",
     "output_type": "stream",
     "text": [
      "https://tse2-mm.cn.bing.net/th/id/OIP-C.nmo3hnPIwJw8EhJ1LQl7FQHaCL?w=289&h=102&c=7&r=0&o=5&dpr=2&pid=1.7\n",
      "https://tse1-mm.cn.bing.net/th/id/OIP-C.DF_SPz5NnkJ5kvj5P4FALgHaE_?w=220&h=180&c=7&r=0&o=5&dpr=2&pid=1.7\n"
     ]
    },
    {
     "name": "stderr",
     "output_type": "stream",
     "text": [
      "Some characters could not be decoded, and were replaced with REPLACEMENT CHARACTER.\n"
     ]
    },
    {
     "name": "stdout",
     "output_type": "stream",
     "text": [
      "Location values cannot contain NaNs.\n",
      "killed.....:   Ruddy x White-headed Duck (hybrid)\n",
      "http://bing.com/images/search?q=Ring-necked+Duck+x+Lesser+Scaup+(hybrid)\n",
      "https://tse4-mm.cn.bing.net/th/id/OIP-C.zQTpZfo6aMtzPaA8FB2VaQHaFj?w=220&h=180&c=7&r=0&o=5&dpr=2&pid=1.7\n"
     ]
    },
    {
     "name": "stderr",
     "output_type": "stream",
     "text": [
      "Some characters could not be decoded, and were replaced with REPLACEMENT CHARACTER.\n",
      "Some characters could not be decoded, and were replaced with REPLACEMENT CHARACTER.\n"
     ]
    },
    {
     "name": "stdout",
     "output_type": "stream",
     "text": [
      "https://tse2-mm.cn.bing.net/th/id/OIP-C.an2_8D3N-CZCIcBH-j12cAHaFj?w=220&h=180&c=7&r=0&o=5&dpr=2&pid=1.7\n",
      "len_with_frac2 1.2225352112676056\n",
      "len_with_frac3 1.2225352112676056\n",
      "Finished***:   Ring-necked Duck x Lesser Scaup (hybrid)\n",
      "http://bing.com/images/search?q=Mallard+x+Red-crested+Pochard+(hybrid)\n",
      "https://tse3-mm.cn.bing.net/th/id/OIP-C.f1YlRILArTlPoyC0mLEHHgAAAA?w=242&h=182&c=7&r=0&o=5&dpr=2&pid=1.7\n"
     ]
    },
    {
     "name": "stderr",
     "output_type": "stream",
     "text": [
      "Some characters could not be decoded, and were replaced with REPLACEMENT CHARACTER.\n",
      "Some characters could not be decoded, and were replaced with REPLACEMENT CHARACTER.\n"
     ]
    },
    {
     "name": "stdout",
     "output_type": "stream",
     "text": [
      "https://tse3-mm.cn.bing.net/th/id/OIP-C.TZpNI-_hyMWVjRPnmvFGUgHaE8?w=273&h=182&c=7&r=0&o=5&dpr=2&pid=1.7\n",
      "Location values cannot contain NaNs.\n",
      "killed.....:   Mallard x Red-crested Pochard (hybrid)\n",
      "http://bing.com/images/search?q=Ring-necked+Duck+x+scaup+sp.+(hybrid)\n",
      "'NoneType' object has no attribute 'shape'\n",
      "killed.....:   Ring-necked Duck x scaup sp. (hybrid)\n"
     ]
    },
    {
     "name": "stderr",
     "output_type": "stream",
     "text": [
      "[ WARN:0@3356.270] global /Users/xperience/actions-runner/_work/opencv-python/opencv-python/opencv/modules/imgcodecs/src/loadsave.cpp (239) findDecoder imread_('./All_species/Ring-necked_Duck_x_scaup_sp._(hybrid)_1.jpg'): can't open/read file: check file path/integrity\n"
     ]
    },
    {
     "name": "stdout",
     "output_type": "stream",
     "text": [
      "http://bing.com/images/search?q=Mallard+x+Eastern+Spot-billed+Duck+(hybrid)\n",
      "https://tse3-mm.cn.bing.net/th/id/OIP-C.nV4IJsni4GDc-1qfjqiKqwHaE7?w=297&h=198&c=7&r=0&o=5&dpr=2&pid=1.7\n"
     ]
    },
    {
     "name": "stderr",
     "output_type": "stream",
     "text": [
      "Some characters could not be decoded, and were replaced with REPLACEMENT CHARACTER.\n"
     ]
    },
    {
     "name": "stdout",
     "output_type": "stream",
     "text": [
      "https://tse4-mm.cn.bing.net/th/id/OIP-C.saCAj9EESrr2iRGWK0moqQHaE7?w=297&h=198&c=7&r=0&o=5&dpr=2&pid=1.7\n"
     ]
    },
    {
     "name": "stderr",
     "output_type": "stream",
     "text": [
      "Some characters could not be decoded, and were replaced with REPLACEMENT CHARACTER.\n"
     ]
    },
    {
     "name": "stdout",
     "output_type": "stream",
     "text": [
      "Location values cannot contain NaNs.\n",
      "killed.....:   Mallard x Eastern Spot-billed Duck (hybrid)\n",
      "http://bing.com/images/search?q=Snow+Ross's+x+Cackling+Canada+Goose+(hybrid)\n",
      "https://tse4-mm.cn.bing.net/th/id/OIP-C.A-mU07sudXPh2ZEfRrEZAgHaEz?w=304&h=197&c=7&r=0&o=5&dpr=2&pid=1.7\n"
     ]
    },
    {
     "name": "stderr",
     "output_type": "stream",
     "text": [
      "Some characters could not be decoded, and were replaced with REPLACEMENT CHARACTER.\n",
      "Some characters could not be decoded, and were replaced with REPLACEMENT CHARACTER.\n"
     ]
    },
    {
     "name": "stdout",
     "output_type": "stream",
     "text": [
      "https://tse3-mm.cn.bing.net/th/id/OIP-C.VtQiIp5ZIQ9PKGcbe7U-rAHaE7?w=295&h=197&c=7&r=0&o=5&dpr=2&pid=1.7\n",
      "Location values cannot contain NaNs.\n",
      "killed.....:   Snow_or_Ross's x Cackling_or_Canada Goose (hybrid)\n",
      "http://bing.com/images/search?q=Ferruginous+Duck+Baer's+Pochard\n",
      "https://tse4-mm.cn.bing.net/th/id/OIP-C.CD3hHzONOYcVZcP7ujcWdgHaE7?w=286&h=191&c=7&r=0&o=5&dpr=2&pid=1.7\n"
     ]
    },
    {
     "name": "stderr",
     "output_type": "stream",
     "text": [
      "Some characters could not be decoded, and were replaced with REPLACEMENT CHARACTER.\n"
     ]
    },
    {
     "name": "stdout",
     "output_type": "stream",
     "text": [
      "https://tse4-mm.cn.bing.net/th/id/OIP-C.7p3UT3o_j-_VYiylsyJr4AHaFH?w=276&h=191&c=7&r=0&o=5&dpr=2&pid=1.7\n"
     ]
    },
    {
     "name": "stderr",
     "output_type": "stream",
     "text": [
      "Some characters could not be decoded, and were replaced with REPLACEMENT CHARACTER.\n"
     ]
    },
    {
     "name": "stdout",
     "output_type": "stream",
     "text": [
      "Location values cannot contain NaNs.\n",
      "killed.....:   Ferruginous Duck_or_Baer's Pochard\n",
      "http://bing.com/images/search?q=Campbell+Islands+Teal\n"
     ]
    },
    {
     "name": "stderr",
     "output_type": "stream",
     "text": [
      "Some characters could not be decoded, and were replaced with REPLACEMENT CHARACTER.\n"
     ]
    },
    {
     "name": "stdout",
     "output_type": "stream",
     "text": [
      "https://tse2-mm.cn.bing.net/th/id/OIP-C.N8vWFL2Ycu-iP1QqP1SmqQHaFj?w=227&h=180&c=7&r=0&o=5&dpr=2&pid=1.7\n",
      "https://tse3-mm.cn.bing.net/th/id/OIP-C.bStMeNWpssMMXK_ecq3J5gHaE8?w=255&h=180&c=7&r=0&o=5&dpr=2&pid=1.7\n"
     ]
    },
    {
     "name": "stderr",
     "output_type": "stream",
     "text": [
      "Some characters could not be decoded, and were replaced with REPLACEMENT CHARACTER.\n"
     ]
    },
    {
     "name": "stdout",
     "output_type": "stream",
     "text": [
      "len_with_frac2 1.2619718309859156\n",
      "len_with_frac3 1.4177215189873418\n",
      "Finished***:   Campbell Islands Teal\n",
      "http://bing.com/images/search?q=Greater+White-fronted+x+Cackling+Goose+(hybrid)\n",
      "Location values cannot contain NaNs.\n",
      "killed.....:   Greater White-fronted x Cackling Goose (hybrid)\n",
      "http://bing.com/images/search?q=Greater+White-fronted+x+Barnacle+Goose+(hybrid)\n",
      "https://tse4-mm.cn.bing.net/th/id/OIP-C.GtYXRaJBRbU3jGYey7XkugHaFu?w=249&h=192&c=7&r=0&o=5&dpr=2&pid=1.7\n"
     ]
    },
    {
     "name": "stderr",
     "output_type": "stream",
     "text": [
      "Some characters could not be decoded, and were replaced with REPLACEMENT CHARACTER.\n"
     ]
    },
    {
     "name": "stdout",
     "output_type": "stream",
     "text": [
      "https://tse3-mm.cn.bing.net/th/id/OIP-C.R_wEgatgDhAbzY8k-XpRdQHaHh?w=190&h=192&c=7&r=0&o=5&dpr=2&pid=1.7\n"
     ]
    },
    {
     "name": "stderr",
     "output_type": "stream",
     "text": [
      "Some characters could not be decoded, and were replaced with REPLACEMENT CHARACTER.\n"
     ]
    },
    {
     "name": "stdout",
     "output_type": "stream",
     "text": [
      "Location values cannot contain NaNs.\n",
      "killed.....:   Greater White-fronted x Barnacle Goose (hybrid)\n",
      "http://bing.com/images/search?q=Tufted+Duck+x+Lesser+Scaup+(hybrid)\n",
      "https://tse3-mm.cn.bing.net/th/id/OIP-C.Z0jvuBn-zKUqBu_2FoHftgHaEc?w=261&h=180&c=7&r=0&o=5&dpr=2&pid=1.7\n"
     ]
    },
    {
     "name": "stderr",
     "output_type": "stream",
     "text": [
      "Some characters could not be decoded, and were replaced with REPLACEMENT CHARACTER.\n",
      "Some characters could not be decoded, and were replaced with REPLACEMENT CHARACTER.\n"
     ]
    },
    {
     "name": "stdout",
     "output_type": "stream",
     "text": [
      "https://tse2-mm.cn.bing.net/th/id/OIP-C.g9ESxXEx1rUxHSumkIPwtwHaFj?w=209&h=180&c=7&r=0&o=5&dpr=2&pid=1.7\n",
      "Location values cannot contain NaNs.\n",
      "killed.....:   Tufted Duck x Lesser Scaup (hybrid)\n",
      "http://bing.com/images/search?q=Snow+Goose+x+Brant+(hybrid)\n",
      "Location values cannot contain NaNs.\n",
      "killed.....:   Snow Goose x Brant (hybrid)\n",
      "http://bing.com/images/search?q=Wood+Duck+x+Hooded+Merganser+(hybrid)\n"
     ]
    },
    {
     "name": "stderr",
     "output_type": "stream",
     "text": [
      "Some characters could not be decoded, and were replaced with REPLACEMENT CHARACTER.\n"
     ]
    },
    {
     "name": "stdout",
     "output_type": "stream",
     "text": [
      "https://tse2-mm.cn.bing.net/th/id/OIP-C.BOmtq8DM4I-pLCQqfnZ72AHaF7?w=221&h=180&c=7&r=0&o=5&dpr=2&pid=1.7\n",
      "https://tse3-mm.cn.bing.net/th/id/OIP-C.FkE31wLtWDxVqBs0nxZtYgHaF7?w=221&h=180&c=7&r=0&o=5&dpr=2&pid=1.7\n"
     ]
    },
    {
     "name": "stderr",
     "output_type": "stream",
     "text": [
      "Some characters could not be decoded, and were replaced with REPLACEMENT CHARACTER.\n"
     ]
    },
    {
     "name": "stdout",
     "output_type": "stream",
     "text": [
      "Location values cannot contain NaNs.\n",
      "killed.....:   Wood Duck x Hooded Merganser (hybrid)\n",
      "swift\n",
      "len_with_frac2 1.5304054054054055\n",
      "len_with_frac3 0.9555555555555556\n",
      "Finished***:   White-throated Swift\n",
      "len_with_frac2 1.5614617940199336\n",
      "len_with_frac3 1.7669172932330828\n",
      "Finished***:   Chimney Swift\n",
      "len_with_frac2 1.3970588235294117\n",
      "len_with_frac3 1.781954887218045\n",
      "Finished***:   Common Swift\n",
      "len_with_frac2 1.5047619047619047\n",
      "len_with_frac3 1.332394366197183\n",
      "Finished***:   Tepui Swift\n",
      "len_with_frac2 1.2\n",
      "len_with_frac3 1.4916943521594683\n",
      "Finished***:   Vaux's Swift\n",
      "len_with_frac2 1.1\n",
      "len_with_frac3 1.6090225563909775\n",
      "Finished***:   Alpine Swift\n",
      "len_with_frac2 1.0\n",
      "len_with_frac3 1.3352112676056338\n",
      "Finished***:   African Palm-Swift\n",
      "len_with_frac2 0.7905759162303665\n",
      "len_with_frac3 1.5\n",
      "Finished***:   White-rumped Swift\n",
      "len_with_frac2 1.6015037593984962\n",
      "len_with_frac3 0.8629737609329446\n",
      "Finished***:   House Swift\n",
      "len_with_frac2 1.2142857142857142\n",
      "len_with_frac3 1.1295774647887324\n",
      "Finished***:   Himalayan Swiftlet\n",
      "len_with_frac2 1.1111111111111112\n",
      "len_with_frac3 1.211111111111111\n",
      "Finished***:   Pacific Swift\n",
      "len_with_frac2 1.5\n",
      "len_with_frac3 1.5047619047619047\n",
      "Finished***:   Little Swift\n",
      "len_with_frac2 0.7377049180327869\n",
      "len_with_frac3 1.4660493827160495\n",
      "Finished***:   White-collared Swift\n",
      "len_with_frac2 1.389240506329114\n",
      "len_with_frac3 1.1777777777777778\n",
      "Finished***:   Pygmy Swiftlet\n",
      "len_with_frac2 0.7444444444444445\n",
      "len_with_frac3 0.7444444444444445\n",
      "Finished***:   Band-rumped Swift\n",
      "len_with_frac2 1.3353474320241692\n",
      "len_with_frac3 1.2450704225352112\n",
      "Finished***:   Germain's Swiftlet\n",
      "len_with_frac2 1.2845070422535212\n",
      "len_with_frac3 1.4462025316455696\n",
      "Finished***:   Horus Swift\n",
      "len_with_frac2 1.5127388535031847\n",
      "len_with_frac3 0.7357512953367875\n",
      "Finished***:   Asian Palm-Swift\n",
      "len_with_frac2 1.0833333333333333\n",
      "len_with_frac3 1.2788732394366198\n",
      "Finished***:   Indian Swiftlet\n",
      "len_with_frac2 0.6388888888888888\n",
      "len_with_frac3 1.4749163879598661\n",
      "Finished***:   Chestnut-collared Swift\n",
      "len_with_frac2 1.1690140845070423\n",
      "len_with_frac3 1.1690140845070423\n",
      "Finished***:   Blyth's Swift\n",
      "len_with_frac2 0.8136363636363636\n",
      "len_with_frac3 1.2183544303797469\n",
      "Finished***:   Sick's Swift\n",
      "len_with_frac2 0.7388888888888889\n",
      "len_with_frac3 1.3014084507042254\n",
      "Finished***:   Glossy Swiftlet\n",
      "len_with_frac2 0.8\n",
      "len_with_frac3 1.3352112676056338\n",
      "Finished***:   Short-tailed Swift\n",
      "len_with_frac2 0.6388888888888888\n",
      "len_with_frac3 0.7222222222222222\n",
      "Finished***:   Fork-tailed Palm-Swift\n",
      "len_with_frac2 1.0888888888888888\n",
      "len_with_frac3 1.4458598726114649\n",
      "Finished***:   Black Swift\n",
      "len_with_frac2 1.3352112676056338\n",
      "len_with_frac3 1.5389610389610389\n",
      "Finished***:   Lesser Swallow-tailed Swift\n",
      "len_with_frac2 1.2450704225352112\n",
      "len_with_frac3 1.2450704225352112\n",
      "Finished***:   Mountain Swiftlet\n",
      "len_with_frac2 1.2901408450704226\n",
      "len_with_frac3 0.9666666666666667\n",
      "Finished***:   Gray-rumped Treeswift\n",
      "len_with_frac2 1.585284280936455\n",
      "len_with_frac3 1.4553846153846153\n",
      "Finished***:   Andean Swift\n",
      "len_with_frac2 0.9010989010989011\n",
      "len_with_frac3 1.5\n",
      "Finished***:   Nyanza Swift\n",
      "Location values cannot contain NaNs.\n",
      "killed.....:   Common_or_Pallid Swift\n",
      "len_with_frac2 1.6013513513513513\n",
      "len_with_frac3 1.507936507936508\n",
      "Finished***:   swift sp.\n",
      "len_with_frac2 1.1166666666666667\n",
      "len_with_frac3 0.9333333333333333\n",
      "Finished***:   Swift Parrot\n",
      "len_with_frac2 0.7\n",
      "len_with_frac3 0.7666666666666667\n",
      "Finished***:   Pallid Swift\n",
      "len_with_frac2 1.2112676056338028\n",
      "len_with_frac3 1.2112676056338028\n",
      "Finished***:   Plume-toed Swiftlet\n",
      "len_with_frac2 1.4113924050632911\n",
      "len_with_frac3 0.6833333333333333\n",
      "Finished***:   dark swiftlet sp.\n",
      "len_with_frac2 0.6666666666666666\n",
      "len_with_frac3 1.3352112676056338\n",
      "Finished***:   White-rumped Swiftlet\n",
      "len_with_frac2 0.6989247311827957\n",
      "len_with_frac3 1.3352112676056338\n",
      "Finished***:   Gray-rumped Swift\n",
      "len_with_frac2 0.9944444444444445\n",
      "len_with_frac3 0.9944444444444445\n",
      "Finished***:   Philippine Spinetailed Swift\n",
      "Location values cannot contain NaNs.\n",
      "killed.....:   Chimney_or_Vaux's Swift\n",
      "len_with_frac2 1.332394366197183\n",
      "len_with_frac3 1.4065281899109792\n",
      "Finished***:   Moustached Treeswift\n",
      "len_with_frac2 0.7944444444444444\n",
      "len_with_frac3 1.4968354430379747\n",
      "Finished***:   Crested Treeswift\n",
      "len_with_frac2 1.3304597701149425\n",
      "len_with_frac3 0.6388888888888888\n",
      "Finished***:   Madagascar Swift\n",
      "len_with_frac2 1.1916666666666667\n",
      "len_with_frac3 0.6388888888888888\n",
      "Finished***:   White-naped Swift\n",
      "len_with_frac2 0.7388888888888889\n",
      "len_with_frac3 1.2375\n",
      "Finished***:   Costa Rican Swift\n",
      "len_with_frac2 1.0\n",
      "len_with_frac3 0.7049180327868853\n",
      "Finished***:   Plain Swift\n",
      "len_with_frac2 1.5447154471544715\n",
      "len_with_frac3 0.6666666666666666\n",
      "Finished***:   Whiskered Treeswift\n",
      "len_with_frac2 1.3126760563380282\n",
      "len_with_frac3 0.9777777777777777\n",
      "Finished***:   Australian Swiftlet\n",
      "len_with_frac2 1.1951219512195121\n",
      "len_with_frac3 1.0676056338028168\n",
      "Finished***:   Cave Swiftlet\n",
      "len_with_frac2 1.674911660777385\n",
      "len_with_frac3 1.3380281690140845\n",
      "Finished***:   African Swift\n",
      "len_with_frac2 1.3352112676056338\n",
      "len_with_frac3 1.0\n",
      "Finished***:   Antillean Palm-Swift\n",
      "len_with_frac2 1.332394366197183\n",
      "len_with_frac3 1.4451219512195121\n",
      "Finished***:   Black-nest Swiftlet\n",
      "len_with_frac2 0.6722222222222223\n",
      "len_with_frac3 1.2861189801699717\n",
      "Finished***:   Gray-rumped Swiftlet\n",
      "len_with_frac2 1.2506596306068603\n",
      "len_with_frac3 1.3352112676056338\n",
      "Finished***:   Uniform Swiftlet\n",
      "len_with_frac2 1.5015873015873016\n",
      "len_with_frac3 1.4451219512195121\n",
      "[Errno 2] No such file or directory: './All_species/swift/swiftlet_sp.___Collocalia/Aerodramus_sp__2019.html'\n",
      "killed.....:   swiftlet sp.\n",
      "len_with_frac2 1.4\n",
      "len_with_frac3 1.2450704225352112\n",
      "Finished***:   Seychelles Swiftlet\n",
      "len_with_frac2 1.4451219512195121\n",
      "len_with_frac3 0.7164948453608248\n",
      "Finished***:   Great Dusky Swift\n",
      "len_with_frac2 1.3853503184713376\n",
      "len_with_frac3 1.379746835443038\n",
      "Finished***:   Lesser Antillean Swift\n",
      "len_with_frac2 1.781954887218045\n",
      "len_with_frac3 1.4539877300613497\n",
      "Finished***:   large swift sp.\n",
      "len_with_frac2 1.3779264214046822\n",
      "len_with_frac3 1.1625\n",
      "Finished***:   Pale-rumped Swift\n",
      "len_with_frac2 0.7989690721649485\n",
      "len_with_frac3 1.3352112676056338\n",
      "Finished***:   White-nest Swiftlet\n",
      "len_with_frac2 1.488262910798122\n",
      "len_with_frac3 1.4841772151898733\n",
      "Finished***:   Ameline Swiftlet\n",
      "len_with_frac2 1.1709844559585492\n",
      "len_with_frac3 1.3888888888888888\n",
      "Finished***:   Biscutate Swift\n",
      "len_with_frac2 0.7333333333333333\n",
      "len_with_frac3 0.7333333333333333\n",
      "Finished***:   Great Swallow-tailed Swift\n",
      "len_with_frac2 1.2450704225352112\n",
      "len_with_frac3 1.3962264150943395\n",
      "Finished***:   Papuan Spinetailed Swift\n",
      "len_with_frac2 1.2338028169014084\n",
      "len_with_frac3 1.389240506329114\n",
      "Finished***:   Mottled Swift\n",
      "len_with_frac2 1.2041666666666666\n",
      "len_with_frac3 1.2\n",
      "Finished***:   Salim Ali's Swift\n",
      "len_with_frac2 1.3896713615023475\n",
      "len_with_frac3 1.3777777777777778\n",
      "Finished***:   Seram Swiftlet\n",
      "len_with_frac2 0.9277777777777778\n",
      "len_with_frac3 1.3955696202531647\n",
      "Finished***:   Chapman's Swift\n",
      "len_with_frac2 0.7472527472527473\n",
      "len_with_frac3 1.5\n",
      "Finished***:   Ridgetop Swiftlet\n",
      "len_with_frac2 1.217142857142857\n",
      "len_with_frac3 1.194915254237288\n",
      "Finished***:   White-tipped Swift\n",
      "len_with_frac2 1.228169014084507\n",
      "len_with_frac3 1.3074626865671641\n",
      "Finished***:   Cook's Swift\n",
      "len_with_frac2 1.5\n",
      "len_with_frac3 1.5023474178403755\n",
      "Finished***:   Philippine Swiftlet\n",
      "len_with_frac2 1.4620253164556962\n",
      "len_with_frac3 1.2966101694915255\n",
      "Finished***:   Caroline Islands Swiftlet\n",
      "len_with_frac2 1.3066298342541436\n",
      "len_with_frac3 1.5\n",
      "[Errno 2] No such file or directory: './All_species/swift/fork-tailed_swift_sp.___Apus_pacificus/salimalii/leuconyx/cooki__2019.html'\n",
      "killed.....:   fork-tailed swift sp.\n",
      "len_with_frac2 1.3727810650887573\n",
      "len_with_frac3 1.25\n",
      "Finished***:   Tenggara Swiftlet\n",
      "len_with_frac2 0.6944444444444444\n",
      "len_with_frac3 0.872\n",
      "Finished***:   Mariana Swiftlet\n",
      "len_with_frac2 1.7481203007518797\n",
      "len_with_frac3 1.3070422535211268\n",
      "Finished***:   small swift sp.\n",
      "len_with_frac2 1.2901408450704226\n",
      "len_with_frac3 1.460093896713615\n",
      "Finished***:   Drab Swiftlet\n",
      "len_with_frac2 1.4660493827160495\n",
      "len_with_frac3 1.5389610389610389\n",
      "Finished***:   Sooty Swift\n",
      "len_with_frac2 1.0\n",
      "len_with_frac3 1.3352112676056338\n",
      "Finished***:   Bradfield's Swift\n",
      "len_with_frac2 1.2619718309859156\n",
      "len_with_frac3 1.2619718309859156\n",
      "Finished***:   Sulawesi Swiftlet\n",
      "len_with_frac2 1.1746478873239437\n",
      "len_with_frac3 1.3174603174603174\n",
      "Finished***:   Scarce Swift\n",
      "len_with_frac2 1.3041666666666667\n",
      "len_with_frac3 1.518032786885246\n",
      "Finished***:   Marquesan Swiftlet\n",
      "len_with_frac2 1.3081570996978853\n",
      "len_with_frac3 1.380281690140845\n",
      "Finished***:   Satin Swiftlet\n",
      "len_with_frac2 0.75\n",
      "len_with_frac3 1.4225352112676057\n",
      "Finished***:   Palau Swiftlet\n",
      "Location values cannot contain NaNs.\n",
      "killed.....:   Pacific_or_Cook's Swift\n",
      "len_with_frac2 1.3639240506329113\n",
      "len_with_frac3 1.3746031746031746\n",
      "Finished***:   Mascarene Swiftlet\n",
      "len_with_frac2 1.5418060200668897\n",
      "len_with_frac3 1.241025641025641\n",
      "Finished***:   white-bellied swiftlet sp.\n",
      "Location values cannot contain NaNs.\n",
      "killed.....:   White-nest_or_Germain's Swiftlet (Edible-nest Swiftlet)\n",
      "len_with_frac2 1.5789473684210527\n",
      "len_with_frac3 1.3291139240506329\n",
      "Finished***:   Bornean Swiftlet\n",
      "len_with_frac2 1.5\n",
      "len_with_frac3 1.3352112676056338\n",
      "Finished***:   Atiu Swiftlet\n",
      "len_with_frac2 1.566326530612245\n",
      "len_with_frac3 1.4303797468354431\n",
      "Finished***:   Polynesian Swiftlet\n",
      "len_with_frac2 1.585284280936455\n",
      "len_with_frac3 1.585284280936455\n",
      "Finished***:   Amazonian Swift\n",
      "len_with_frac2 1.3352112676056338\n",
      "len_with_frac3 1.3352112676056338\n",
      "Finished***:   White-chinned Swift\n",
      "len_with_frac2 1.2169014084507042\n",
      "len_with_frac3 1.2169014084507042\n",
      "Finished***:   Volcano Swiftlet\n",
      "len_with_frac2 1.4556962025316456\n",
      "len_with_frac3 1.4556962025316456\n",
      "Finished***:   Mossy-nest Swiftlet\n",
      "len_with_frac2 1.3352112676056338\n",
      "len_with_frac3 1.3352112676056338\n",
      "Finished***:   Spot-fronted Swift\n",
      "len_with_frac2 1.2982456140350878\n",
      "len_with_frac3 1.372937293729373\n",
      "Finished***:   Halmahera Swiftlet\n",
      "len_with_frac2 1.2\n",
      "len_with_frac3 1.408450704225352\n",
      "Finished***:   Bates's Swift\n",
      "len_with_frac2 1.3006329113924051\n",
      "len_with_frac3 1.2990654205607477\n",
      "Finished***:   Dark-rumped Swift\n",
      "Location values cannot contain NaNs.\n",
      "killed.....:   Little_or_House Swift\n",
      "len_with_frac2 1.0444444444444445\n",
      "len_with_frac3 1.0722222222222222\n",
      "Finished***:   Rothschild's Swift\n",
      "len_with_frac2 1.1444444444444444\n",
      "len_with_frac3 1.2901408450704226\n",
      "Finished***:   Waterfall Swift\n",
      "len_with_frac2 1.4113924050632911\n",
      "len_with_frac3 1.2531120331950207\n",
      "Finished***:   Pygmy Swift\n",
      "len_with_frac2 1.2563380281690142\n",
      "len_with_frac3 1.211111111111111\n",
      "Finished***:   Forbes-Watson's Swift\n",
      "Location values cannot contain NaNs.\n",
      "killed.....:   Gray-rumped_or_Ridgetop Swiftlet\n",
      "len_with_frac2 1.585284280936455\n",
      "len_with_frac3 1.585284280936455\n",
      "Finished***:   White-chested Swift\n",
      "len_with_frac2 1.152112676056338\n",
      "len_with_frac3 1.152112676056338\n",
      "Finished***:   Alexander's Swift\n",
      "len_with_frac2 1.1611111111111112\n",
      "len_with_frac3 1.323943661971831\n",
      "Finished***:   Christmas Island Swiftlet\n",
      "len_with_frac2 1.3352112676056338\n",
      "len_with_frac3 0.6918918918918919\n",
      "Finished***:   White-fronted Swift\n",
      "len_with_frac2 0.5774278215223098\n",
      "len_with_frac3 1.0301507537688441\n",
      "Finished***:   treeswift sp.\n",
      "Location values cannot contain NaNs.\n",
      "killed.....:   Whitehead's Swiftlet\n",
      "Location values cannot contain NaNs.\n",
      "killed.....:   Scarce_or_Schouteden's Swift\n",
      "len_with_frac2 1.2208333333333334\n",
      "len_with_frac3 1.3021148036253776\n",
      "Finished***:   Mayr's Swiftlet\n",
      "falcon\n",
      "len_with_frac2 1.0\n",
      "len_with_frac3 0.6682692307692307\n",
      "Finished***:   Brown Falcon\n",
      "len_with_frac2 0.6650246305418719\n",
      "len_with_frac3 0.6650246305418719\n",
      "Finished***:   Red-footed Falcon\n",
      "len_with_frac2 1.4701492537313432\n",
      "len_with_frac3 0.8222222222222222\n",
      "Finished***:   Peregrine Falcon\n",
      "len_with_frac2 1.4695945945945945\n",
      "len_with_frac3 1.405844155844156\n",
      "Finished***:   Prairie Falcon\n",
      "len_with_frac2 1.0773480662983426\n",
      "len_with_frac3 0.6685082872928176\n",
      "Finished***:   Black Falcon\n",
      "len_with_frac2 1.6047297297297298\n",
      "len_with_frac3 1.3\n",
      "Finished***:   Aplomado Falcon\n",
      "len_with_frac2 0.7\n",
      "len_with_frac3 1.1277777777777778\n",
      "Finished***:   Collared Forest-Falcon\n",
      "len_with_frac2 1.2394366197183098\n",
      "len_with_frac3 2.0416666666666665\n",
      "Finished***:   Amur Falcon\n",
      "len_with_frac2 1.781954887218045\n",
      "len_with_frac3 1.3427762039660056\n",
      "Finished***:   falcon sp.\n",
      "len_with_frac2 0.717391304347826\n",
      "len_with_frac3 0.7989130434782609\n",
      "Finished***:   Bat Falcon\n",
      "len_with_frac2 0.6648648648648648\n",
      "len_with_frac3 1.3130193905817173\n",
      "Finished***:   Pygmy Falcon\n",
      "len_with_frac2 0.7990196078431373\n",
      "len_with_frac3 1.3352112676056338\n",
      "Finished***:   Slaty-backed Forest-Falcon\n",
      "len_with_frac2 0.6388888888888888\n",
      "len_with_frac3 0.8\n",
      "Finished***:   Barred Forest-Falcon\n",
      "len_with_frac2 1.0\n",
      "len_with_frac3 0.9090909090909091\n",
      "Finished***:   Laughing Falcon\n",
      "len_with_frac2 1.4006309148264984\n",
      "len_with_frac3 0.8166666666666667\n",
      "Finished***:   New Zealand Falcon\n",
      "len_with_frac2 1.5\n",
      "len_with_frac3 1.5\n",
      "Finished***:   Red-necked Falcon\n",
      "len_with_frac2 0.7208121827411168\n",
      "len_with_frac3 0.6649746192893401\n",
      "Finished***:   Lanner Falcon\n",
      "len_with_frac2 1.3352112676056338\n",
      "len_with_frac3 1.3352112676056338\n",
      "Finished***:   Black-thighed Falconet\n",
      "len_with_frac2 1.2225352112676056\n",
      "len_with_frac3 1.630188679245283\n",
      "Finished***:   large falcon sp.\n",
      "len_with_frac2 1.1333333333333333\n",
      "len_with_frac3 1.4415584415584415\n",
      "Finished***:   Eleonora's Falcon\n",
      "len_with_frac2 1.4968354430379747\n",
      "len_with_frac3 0.6666666666666666\n",
      "Finished***:   Lined Forest-Falcon\n",
      "len_with_frac2 0.8009950248756219\n",
      "len_with_frac3 0.8009950248756219\n",
      "Finished***:   Philippine Falconet\n",
      "len_with_frac2 1.2628726287262872\n",
      "len_with_frac3 0.7486910994764397\n",
      "Finished***:   small falcon sp.\n",
      "len_with_frac2 1.2450704225352112\n",
      "len_with_frac3 1.2450704225352112\n",
      "Finished***:   Spot-winged Falconet\n",
      "len_with_frac2 0.7666666666666667\n",
      "len_with_frac3 0.7888888888888889\n",
      "Finished***:   Collared Falconet\n",
      "len_with_frac2 1.0050761421319796\n",
      "len_with_frac3 1.237597911227154\n",
      "Finished***:   Sooty Falcon\n",
      "len_with_frac2 0.9555555555555556\n",
      "len_with_frac3 1.4335443037974684\n",
      "Finished***:   Gray Falcon\n",
      "len_with_frac2 1.3014084507042254\n",
      "len_with_frac3 1.5807560137457044\n",
      "Finished***:   White-fronted Falconet\n",
      "len_with_frac2 1.5\n",
      "len_with_frac3 0.6617647058823529\n",
      "Finished***:   Laggar Falcon\n",
      "len_with_frac2 0.8333333333333334\n",
      "len_with_frac3 1.4858934169278997\n",
      "Finished***:   Taita Falcon\n",
      "len_with_frac2 0.8076923076923077\n",
      "len_with_frac3 1.324022346368715\n",
      "Finished***:   White-rumped Falcon\n",
      "len_with_frac2 1.2444444444444445\n",
      "len_with_frac3 1.563157894736842\n",
      "Finished***:   forest-falcon sp.\n",
      "len_with_frac2 1.332394366197183\n",
      "len_with_frac3 0.7630331753554502\n",
      "Finished***:   Plumbeous Forest-Falcon\n",
      "len_with_frac2 0.6888888888888889\n",
      "len_with_frac3 1.3295774647887324\n",
      "Finished***:   Cryptic Forest-Falcon\n",
      "len_with_frac2 1.3352112676056338\n",
      "len_with_frac3 1.588628762541806\n",
      "Finished***:   Buckley's Forest-Falcon\n",
      "len_with_frac2 1.6232876712328768\n",
      "len_with_frac3 1.3352112676056338\n",
      "Finished***:   Pied Falconet\n",
      "Location values cannot contain NaNs.\n",
      "killed.....:   Barred_or_Lined Forest-Falcon\n",
      "Location values cannot contain NaNs.\n",
      "killed.....:   Barred_or_Plumbeous Forest-Falcon\n",
      "len_with_frac2 1.45\n",
      "len_with_frac3 1.3006329113924051\n",
      "Finished***:   Peregrine x Prairie Falcon (hybrid)\n",
      "Location values cannot contain NaNs.\n",
      "killed.....:   Red-footed_or_Amur Falcon\n",
      "semipalmated_sandpiper\n",
      "len_with_frac2 1.2678571428571428\n",
      "len_with_frac3 1.708\n",
      "Finished***:   Semipalmated Sandpiper\n",
      "pectoral_sandpiper\n",
      "len_with_frac2 1.5\n",
      "len_with_frac3 1.3352112676056338\n",
      "Finished***:   Pectoral Sandpiper\n",
      "Location values cannot contain NaNs.\n",
      "killed.....:   Sharp-tailed_or_Pectoral Sandpiper\n",
      "sooty_shearwater\n",
      "len_with_frac2 1.3944444444444444\n",
      "len_with_frac3 1.4966216216216217\n",
      "Finished***:   Sooty Shearwater\n",
      "pied_wheatear\n",
      "len_with_frac2 1.2788732394366198\n",
      "len_with_frac3 1.3693693693693694\n",
      "Finished***:   Pied Wheatear\n",
      "short_tailed_shearwater\n",
      "len_with_frac2 1.0444444444444445\n",
      "len_with_frac3 1.556390977443609\n",
      "Finished***:   Short-tailed Shearwater\n",
      "Location values cannot contain NaNs.\n",
      "killed.....:   Sooty_or_Short-tailed Shearwater\n"
     ]
    }
   ],
   "source": [
    "out_html=open('./All_species/index.html','w')\n",
    "out_html.write(\"\"\"<!DOCTYPE html>\n",
    "<html>\n",
    "<head>\n",
    "    <meta http-equiv=\"Content-Type\" content=\"text/html( charset=utf-8\" />\n",
    "<title>Visualizing Bird Migration</title> \n",
    "<style type=\"text/css\">\n",
    "\n",
    "p {\n",
    "    text-align: center;\n",
    "    background-color:#e0ffff;\n",
    "}\n",
    "\n",
    "body {\n",
    "    text-align: center;\n",
    "}\n",
    "\n",
    "h1 {\n",
    "\tbackground-color:#6495ed;\n",
    "        text-align: center;\n",
    "}\n",
    "\n",
    "h2 {\n",
    "    \tbackground-color:#6495ed;\n",
    "        text-align: center;\n",
    "}\n",
    "\n",
    "h3 {  \tbackground-color:#6495ed;\n",
    "        text-align: center;}\n",
    "\n",
    "\n",
    "\n",
    "</style>\n",
    "</head>\n",
    "<body>\n",
    "\n",
    "    <h1> Visualizing Bird Migration Process Using ebird Data</h1> <br>\n",
    "    <h2> contributors: Yangkang  chenyangkang24@outlook.com<br>    \n",
    "\t&nbsp&nbsp&nbsp\n",
    "\t&nbsp&nbsp&nbsp\n",
    "\t&nbsp&nbsp&nbsp&nbsp&nbsp&nbsp&nbsp   \n",
    "\tXiaohang  zhangxiaohang@ioz.ac.cn</h2>\n",
    "\n",
    "    <p> Hi! Thanks for visiting. Feel free to click on these items. <br>\n",
    "    It takes minitues to load the data (sorry because the server is located in China). <br>\n",
    "    Or you can 'wget' the website to your local machine and open it.<br>\n",
    "    For example, type this in your terminal: <font color=\"darkcyan\">wget http://39.107.87.238/arctic_tern_2019.html</font><br>\n",
    "    <br>\n",
    "    If you still have trouble loading, try <b>Apus apus</b> or <b>Falco amurensis</b> data first, because they are relatively small.\n",
    "    <br>To spead up the motion, pull the \"fps\" bar to 10. To replay the motion, click on the \"replay\" botton.\n",
    "    To limite the time interval, you can drag the triangles on the on the time bar.<br>\n",
    "    <br>\n",
    "    If you find that some of the pictures are strange and make no sense, that's normal, because we simply use web crawler to request pictures from bing.com.<br>\n",
    "    <font color=\"darkcyan\">They didn't go through human review</font>, therefore, just for fun! :)\n",
    "    </p>\n",
    "<p2>\n",
    "    <a href=\"http://39.107.87.238/apus_apus_2019.html\">楼燕/北京雨燕 (Apus apus)</a><br>\n",
    "    <a href=\"http://39.107.87.238/arctic_tern_2019.html\">北极燕鸥 (Sterna paradisaea)</a><br>\n",
    "    <a href=\"http://39.107.87.238/Falco_peregrinus_2019.html\">游隼 (Falco peregrinus)</a><br>\n",
    "    <a href=\"http://39.107.87.238/Falco_amurensis_2019.html\">红脚隼/阿穆尔隼 (Falco amurensis)</a><br> \\n\n",
    "    \n",
    "    \"\"\")\n",
    "\n",
    "for cat in ['ducks','swift','falcon','semipalmated_sandpiper','pectoral_sandpiper', \\\n",
    "    'sooty_shearwater','pied_wheatear','short_tailed_shearwater']:\n",
    "    print(cat)\n",
    "    data=read_data(cat+'_data.txt')\n",
    "    out_html.write('<br><h3>——————————————————%s——————————————————</h3><br>'%(cat))\n",
    "    for species,scientificname in zip(pd.unique(data['COMMON NAME']),pd.unique(data['SCIENTIFIC NAME'])):\n",
    "            species=species.replace('/','_or_')\n",
    "            scientificname=scientificname.strip(r'[.]+')\n",
    "            start=1\n",
    "            end=53\n",
    "            year_list=[i for i in range(2010,2021)]\n",
    "            label_list=[]\n",
    "            for year in year_list:\n",
    "                day_start=[pd.to_datetime(str(year-1)+'-12-31')+pd.Timedelta((x*7-6), unit='D') for x in range(start,end+1)]\n",
    "                day_end=[str(x.month).zfill(2)+'-'+str(x.day).zfill(2) for x in [x+pd.Timedelta(6, unit='D') for x in day_start]]\n",
    "                day_start=[str(x.month).zfill(2)+'-'+str(x.day).zfill(2) for x in  [pd.to_datetime(str(year-1)+'-12-31')+pd.Timedelta((x*7-6), unit='D') for x in range(start,end+1)]]\n",
    "                week=[str(x) for x in range(start,end+1)]\n",
    "                label=['year: '+str(year)+', from: '+str(x[1])+', to: '+str(x[2]) +', week: '+str(x[0]).zfill(2) for x in zip(week,day_start,day_end)]\n",
    "                label_list.extend(label)\n",
    "\n",
    "            try:\n",
    "                plt.axis([-1,1,-1,1])\n",
    "                plt.text(-0.9,0.8,'Common Name:',fontsize=26)\n",
    "                plt.text(-0.9,0.5,species,fontsize=26)\n",
    "                plt.text(-0.9,-0.2,'Scientific Name:',fontsize=26)\n",
    "\n",
    "                sci_name_it=''\n",
    "                count=0\n",
    "                for i in scientificname.split(' '):\n",
    "                    count+=1\n",
    "                    if count==1 or count==2:\n",
    "                        sci_name_it+='$\\it{%s}$'%(str(i))\n",
    "                    else:\n",
    "                        sci_name_it+=str(i)\n",
    "                    sci_name_it+=\" \"\n",
    "\n",
    "                sci_name_it=sci_name_it.strip(' ')\n",
    "\n",
    "                plt.text(-0.9,-0.5,sci_name_it,fontsize=26)\n",
    "\n",
    "                plt.axis(False)\n",
    "                plt.savefig('out.jpg')\n",
    "                plt.close()\n",
    "\n",
    "\n",
    "                pic1='./All_species/%s.jpg'%(species.replace(' ','_')+\"_1\")\n",
    "                pic2='./All_species/%s.jpg'%(species.replace(' ','_')+\"_2\")\n",
    "\n",
    "                if (not os.path.exists(pic1)) or (not os.path.exists(pic2)):\n",
    "                    grap_figure(species)\n",
    "\n",
    "                time.sleep(random.uniform(1, 3))\n",
    "\n",
    "                plot_list=creat_plot_list(data[(data['COMMON NAME']==species)],year_list,start=start,end=end)\n",
    "                map = plot_map_new(plot_list,label_list,'out.jpg',pic1,pic2)\n",
    "                if not os.path.exists('./All_species/'+cat):\n",
    "                    os.mkdir('./All_species/'+cat)\n",
    "                map.save('./All_species/%s/%s___%s__2019.html'%(cat,species.replace(' ','_'),scientificname.replace(' ','_'))) #save in html\n",
    "                out_html.write('    <a href=\"http://39.107.87.238/%s___%s__2019.html\"> Common Name: %s;     Scientific Name: %s</a><br>\\n'%(species.replace(' ','_'),scientificname.replace(' ','_'),species.replace(' ','_'),scientificname.replace(' ','_')))\n",
    "                \n",
    "                print(\"Finished***:   \"+species)\n",
    "            except Exception as e:\n",
    "                print(str(e))\n",
    "                print(\"killed.....:   \"+species)\n",
    "                continue\n",
    "\n",
    "out_html.write(\"\"\"\n",
    "</p2>\n",
    "\n",
    "<div>\n",
    "<p3> <font color=white> <a href=\"http://39.107.87.238/visitor.html\">visitor check</font></p3>\n",
    "\n",
    "</body>\n",
    "</html>\n",
    "\n",
    "\"\"\")\n",
    "out_html.close()"
   ]
  }
 ],
 "metadata": {
  "interpreter": {
   "hash": "1e9867b585c0f10e2eb480253e40cab44b53d9f15cdd7fb9c79b17a5cb2fa039"
  },
  "kernelspec": {
   "display_name": "Python 3 (ipykernel)",
   "language": "python",
   "name": "python3"
  },
  "language_info": {
   "codemirror_mode": {
    "name": "ipython",
    "version": 3
   },
   "file_extension": ".py",
   "mimetype": "text/x-python",
   "name": "python",
   "nbconvert_exporter": "python",
   "pygments_lexer": "ipython3",
   "version": "3.9.7"
  }
 },
 "nbformat": 4,
 "nbformat_minor": 2
}
